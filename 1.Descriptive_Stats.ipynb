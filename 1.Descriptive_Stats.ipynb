{
 "cells": [
  {
   "cell_type": "markdown",
   "metadata": {},
   "source": [
    "#### Data is a distinct  information \n",
    "### Data Types\n",
    "#### Quantitative and Categorical.\n",
    "\n",
    "##### Quantitative data takes on numeric values that allow us to perform mathematical operations (like the number of dogs).\n",
    "\n",
    "##### Categorical are used to label a group or set of items (like dog breeds - Collies, Labs, Poodles, etc.)."
   ]
  },
  {
   "cell_type": "markdown",
   "metadata": {},
   "source": [
    "# Quiz : \n",
    "#### for each variable bielow, identify each as either quantitative or categorical\n",
    "<ul>\n",
    "    <li>Zip Code </li>\n",
    "    <li>Age </li>\n",
    "    <li> Income </li>\n",
    "    <li> Marital Status (Single, Married, Divorced etc.)</li>\n",
    "    <li> Height </li>\n",
    "    <li> Letter Grades (A+, A, A-, B+, B, B-,...)</li>\n",
    "    <li> Travel Distance to Work </li>\n",
    "    <li> Ratings on a Survey (Poor, OK, Great) </li>\n",
    "    <li> Temperature </li>\n",
    "    <li> Average Speed </li>\n",
    "</ul>"
   ]
  },
  {
   "cell_type": "markdown",
   "metadata": {},
   "source": [
    "\n",
    "\n",
    "\n",
    "\n",
    "# Categorical Ordinal vs. Categorical Nominal\n",
    "#### We can divide categorical data further into two types: Ordinal and Nominal.\n",
    "\n",
    "##### Categorical Ordinal data take on a ranked ordering (like a ranked interaction on a scale from Very Poor to Very Good with the dogs).\n",
    "\n",
    "##### Categorical Nominal data do not have an order or ranking (like the breeds of the dog)."
   ]
  },
  {
   "cell_type": "markdown",
   "metadata": {},
   "source": [
    "# Continuous vs. Discrete\n",
    "#### We can think of quantitative data as being either continuous or discrete.\n",
    "\n",
    "Continuous data can be split into smaller and smaller units, and still a smaller unit exists. An example of this is the age of the dog - we can measure the units of the age in years, months, days, hours, seconds, but there are still smaller units that could be associated with the age.\n",
    "\n",
    "Discrete data only takes on countable values. The number of dogs we interact with is an example of a discrete data type.\n"
   ]
  },
  {
   "cell_type": "markdown",
   "metadata": {},
   "source": [
    "### Quantitative \n",
    "    Discrete -> 0,1,2,....\n",
    "    Continuous -> 0.1,0.2,1.5,....\n",
    "### Categorical \n",
    "    Ordinal -> High, Med, Low\n",
    "    Nominal --> Lab, Pug, Poddle,..."
   ]
  },
  {
   "cell_type": "markdown",
   "metadata": {},
   "source": [
    "#### Data Types\t\t\n",
    "<table>\n",
    "<tr>\n",
    "<th>Quantitative:</th>\t</tr>              \n",
    "<tr> <th>        Continuous </th>\t                        <th>       Discrete\n",
    "    </th>     </tr>\n",
    "<tr>\n",
    "<td>\n",
    "Height, Age, Income, Pages in a Book,</td><td>       Trees in Yard, Dogs at a Coffee Shop</td>\n",
    "</tr>\n",
    "<tr>\n",
    "<th>\n",
    "Categorical:\n",
    "</th>\n",
    "</tr>\n",
    "<tr>\n",
    "<th>\n",
    "        Ordinal </th>\t                                       <th> Nominal </th></tr>\n",
    "<tr>\n",
    "<td>Letter Grade, Survey Rating\t</td><td>        Gender, Marital Status, Breakfast Items</td></tr>\n",
    "</table>"
   ]
  },
  {
   "cell_type": "raw",
   "metadata": {},
   "source": []
  },
  {
   "cell_type": "markdown",
   "metadata": {},
   "source": [
    "##### Quantitative vs. Categorical\n",
    "\n",
    "Some of these can be a bit tricky -\n",
    "\n",
    "notice even though zip codes are a number, they aren’t really a quantitative variable. If we add two zip codes together, we do not obtain any useful information from this new value. Therefore, this is a categorical variable.\n",
    "\n",
    "Height, Age, the Number of Pages in a Book and Annual Income all take on values that we can add, subtract and perform other operations with to gain useful insight. Hence, these are quantitative.\n",
    "\n",
    "Gender, Letter Grade, Breakfast Type, Marital Status, and Zip Code can be thought of as labels for a group of items or individuals. Hence, these are categorical.\n",
    "\n",
    "##### Continuous vs. Discrete\n",
    "\n",
    "To consider if we have continuous or discrete data, we should see if we can split our data into smaller and smaller units. \n",
    "\n",
    "Consider time - we could measure an event in years, months, days, hours, minutes, or seconds, and even at seconds we know there are smaller units we could measure time in.Therefore, we know this data type is continuous.Height, age, and income are all examples of continuous data. \n",
    "\n",
    "\n",
    "Alternatively, the number of pages in a book, dogs I count outside a coffee shop, or trees in a yard are discrete data. We would not want to split our dogs in half.\n",
    "\n",
    "##### Ordinal vs. Nominal\n",
    "\n",
    "In looking at categorical variables, we found Gender, Marital Status, Zip Code and your Breakfast items are nominal variables where there is no order ranking associated with this type of data. Whether you ate cereal, toast, eggs, or only coffee for breakfast; there is no rank ordering associated with your breakfast.\n",
    "\n",
    "\n",
    "Alternatively, the Letter Grade or Survey Ratings have a rank ordering associated with it, as ordinal data. If you receive an A, this is higher than an A-. An A- is ranked higher than a B+, and so on... Ordinal variables frequently occur on rating scales from very poor to very good. In many cases we turn these ordinal variables into numbers, as we can more easily analyze them, but more on this later!\n",
    "\n",
    "### Final Words\n",
    "\n",
    "In this section, we looked at the different data types we might work with in the world around us. When we work with data in the real world, it might not be very clean - sometimes there are typos or missing values. When this is the case, simply having some expertise regarding the data and knowing the data type can assist in our ability to ‘clean’ this data. Understanding data types can also assist in our ability to build visuals to best explain the data. But more on this very soon!"
   ]
  },
  {
   "cell_type": "markdown",
   "metadata": {},
   "source": [
    "##### QUIZ QUESTION\n",
    "\n",
    "All of the variables below are categorical. Your task is to select the check box next to each variable that is nominal; \n",
    "\n",
    "do not check the ordinal categorical variables.\n",
    "\n",
    "    Letter Grades (A,B+,B,B-)\n",
    "    Types of Fruit(Apple,Banana,etc.)\n",
    "    Ratings on a Survey(Poor,Ok,Great)\n",
    "    Types of Dog Breeds(German Shepherd,Collie,etc.)\n",
    "    Genres of Moivies(Horror,Comedy,etc.)\n",
    "    Gender\n",
    "    Nationality\n",
    "    Education(HS,Associates,Bachelors,Masters,PhD,etc.)\n"
   ]
  },
  {
   "cell_type": "markdown",
   "metadata": {},
   "source": [
    "##### QUIZ QUESTION\n",
    "\n",
    "This quiz will ensure you have a clear understanding of the differences between quantitative continuous vs. discrete variables. \n",
    "\n",
    "All of the variables below are quantitative. Your task is select the check box next to each variable that is continuous;\n",
    "\n",
    "do not check the discrete variables.\n",
    "\n",
    "    Travel Distance from Home to Work\n",
    "    Number of Pages in Book\n",
    "    Amount of Rain in Year\n",
    "    Time to Run a Mile\n",
    "    Number of Movies Watched in a Week \n",
    "    Amount of Water Consumed in a Day\n",
    "    Number of Phones per Household"
   ]
  },
  {
   "cell_type": "markdown",
   "metadata": {},
   "source": [
    "### Analyzing Quantitative Data\n",
    "\n",
    "Four Aspects for Quantitative Data, There are four main aspects to analyzing Quantitative data.\n",
    "\n",
    "    Measures of Center\n",
    "    Measures of Spread\n",
    "    The Shape of the data.\n",
    "    Outliers\n",
    "\n",
    "### Analyzing Categorical Data\n",
    "\n",
    "Analyzing categorical data has fewer parts to consider. Categorical data is analyzed usually be looking at the counts or proportion of individuals that fall into each group. For example if we were looking at the breeds of the dogs, we would care about how many dogs are of each breed, or what proportion of dogs are of each breed type.\n",
    "\n",
    "#### Measures of Center\n",
    "\n",
    "There are three measures of center:\n",
    "\n",
    "    Mean\n",
    "    Median\n",
    "    Mode\n",
    "\n",
    "\n",
    "##### The Mean\n",
    "\n",
    "The mean is often called the average or the expected value in mathematics. We calculate the mean by adding all of our values together, and dividing by the number of values in our dataset.\n",
    "\n",
    "$$ \\bar {x} = \\frac {1}  {N} { \\sum_{i=0}^{N} {x_i} } $$\n"
   ]
  },
  {
   "cell_type": "markdown",
   "metadata": {},
   "source": [
    "#### Measures of Center\n",
    "\n",
    "Q1. Which of the below are measures of center \n",
    "\n",
    "    Mean\n",
    "    Standard Deviation\n",
    "    Variance\n",
    "    Median\n",
    "    Inter-quartile Range\n",
    "    Mode\n",
    "    Range\n",
    "    Maximum\n",
    "    Minimum\n",
    "\n",
    "Q.2if We have the Data 5, 8, 15, 7, 10, 22, 3, 1, 15\n",
    "what is mean ? \n",
    "\n",
    "    A). 7\n",
    "    B). 9.56\n",
    "    C). 15\n",
    "    D). 8\n",
    "    E). 8.5\n",
    "\n"
   ]
  },
  {
   "cell_type": "code",
   "execution_count": null,
   "metadata": {},
   "outputs": [],
   "source": []
  },
  {
   "cell_type": "markdown",
   "metadata": {},
   "source": [
    "#### The Median\n",
    "\n",
    "The median splits our data so that 50% of our values are lower and 50% are higher. We have learned that how we calculate the median depends on if we have an even number of observations or an odd number of observations.\n",
    "\n",
    "#### Median for Odd Values\n",
    "\n",
    "If we have an odd number of observations, the median is simply the number in the direct middle. For example, if we have 7 observations, the median is the fourth value when our numbers are ordered from smallest to largest. If we have 9 observations, the median is the fifth value.\n",
    "\n",
    "$$  i = \\frac {N+1} {2} $$ \n",
    "\n",
    "$$ \\mu  = X[i] $$\n",
    "\n",
    "where X denotes sorted dataset, i denotes index and N is number of observation\n",
    "\n",
    "#### Median for Even Values\n",
    "\n",
    "If we have an even number of observations, the median is the average of the two values in the middle. For example, if we have 8 observations, we average the fourth and fifth values together when our numbers are ordered from smallest to largest.\n",
    "\n",
    "$$ i_1 = \\frac {N} {2} $$\n",
    "$$ i_2 = \\frac {N+2} / {2} $$\n",
    "\n",
    "$$ \\mu = \\frac {X[i_1] + X[i_2]} {2} $$\n",
    "\n",
    "##### In order to compute the median we MUST sort our values first.\n",
    "\n",
    "Whether we use the mean or median to describe a dataset is largely dependent on the shape of our dataset and if there are any outliers. We will talk about this in just a bit!"
   ]
  },
  {
   "cell_type": "code",
   "execution_count": null,
   "metadata": {},
   "outputs": [],
   "source": []
  },
  {
   "cell_type": "markdown",
   "metadata": {},
   "source": [
    "Q.1 If we have the data \n",
    "\n",
    "    5, 8, 15, 7, 10, 22, 3, 1, 15\n",
    "\n",
    "what is the median?\n",
    "\n",
    "    A). 7\n",
    "    B). 9.56\n",
    "    C). 15\n",
    "    D). 8\n",
    "    E). 7.5\n",
    "\n",
    "\n",
    "Q2. If we have the data \n",
    "\n",
    "    5, 8, 15, 7, 10, 22, 3, 1, 15, 2\n",
    "\n",
    "what is the median ? \n",
    "\n",
    "    A). 7\n",
    "    B). 9.56\n",
    "    C). 15\n",
    "    D). 8\n",
    "    E). 7.5"
   ]
  },
  {
   "cell_type": "code",
   "execution_count": null,
   "metadata": {},
   "outputs": [],
   "source": []
  },
  {
   "cell_type": "markdown",
   "metadata": {},
   "source": [
    "### The Mode\n",
    "\n",
    "The mode is the most frequently observed value in our dataset.\n",
    "\n",
    "There might be multiple modes for a particular dataset, or no mode at all.\n",
    "\n",
    "#### No Mode\n",
    "\n",
    "If all observations in our dataset are observed with the same frequency, there is no mode. If we have the dataset:\n",
    "\n",
    "    1, 1, 2, 2, 3, 3, 4, 4\n",
    "\n",
    "There is no mode, because all observations occur the same number of times.\n",
    "\n",
    "#### Many Modes\n",
    "\n",
    "If two (or more) numbers share the maximum value, then there is more than one mode. If we have the dataset:\n",
    "\n",
    "    1, 2, 3, 3, 3, 4, 5, 6, 6, 6, 7, 8, 9\n",
    "\n",
    "There are two modes 3 and 6, because these values share the maximum frequencies at 3 times, while all other values only appear once.\n"
   ]
  },
  {
   "cell_type": "raw",
   "metadata": {},
   "source": []
  },
  {
   "cell_type": "markdown",
   "metadata": {},
   "source": [
    "Q1. We want to summarize the number of dogs our friends have into a single number. We will use the measures of center for this problem. \n",
    "\n",
    "Ashley has 1 dog, Steve has 1 dog, Jeff has 2 dogs, Kylie has 3 dogs, and Lisa has 8 dogs.\n",
    "\n",
    "There is no best measure of center so we need to try all three to see what makes sense.\n",
    "\n",
    "What is the mean, median, and mode for the number of dogs our friends have?\n",
    "\n",
    "    A). Mean : 3    Median: 2    Mode:1\n",
    "\n",
    "    B). Mean : 2    Median: 2    Mode:8\n",
    "\n",
    "    C). Mean : 3    Median: 3    Mode: 1\n",
    "\n",
    "    D). Mean : 2    Median: 1    Mode: 8"
   ]
  },
  {
   "cell_type": "markdown",
   "metadata": {},
   "source": [
    "Q.2 Check all of the below that are true with regards to our measure of center \n",
    "\n",
    "\n",
    "     A). The Mode is the middle number in the dataset when the numbers are rank ordered. \n",
    "     B). The Median is the middle number in the dataset when the numbers are rank ordered. \n",
    "     C). The Mean is always the best measure of center for any dataset. \n",
    "     D). The Mean is always less than the median. \n",
    "     E). The Median is always the best measure of center for any dataset. \n",
    "     F). The Mode is always the best measure of center for any dataset.\n",
    "    \n",
    "</ul>"
   ]
  },
  {
   "cell_type": "markdown",
   "metadata": {},
   "source": [
    "Q3. If we have the data : \n",
    "\n",
    "5,8,15,7,10,22,3,1,15 \n",
    "\n",
    "what is the mode ? \n",
    "\n",
    "<ul>\n",
    "    <li> 7 </li>\n",
    "    <li> 9.56 </li>\n",
    "    <li> 9 </li>\n",
    "    <li> 15 </li>\n",
    "</ul>\n"
   ]
  },
  {
   "cell_type": "markdown",
   "metadata": {},
   "source": [
    "Q4. For the dataset below match the correct measure to the value :\n",
    "    \n",
    "    8, 12, 32, 10, 3, 4, 4, 4, 4, 5, 12, 20\n",
    "    \n",
    "<ul> \n",
    "    <li> Mean  -- </li>\n",
    "    <li> Median -- </li> \n",
    "    <li> Mode -- </li>\n",
    "    <li> None of the Above </li>\n",
    "</ul>\n",
    "\n",
    "<p> <b> Values :  </b> 8, 6.5, 4, 9.83 </p>"
   ]
  },
  {
   "cell_type": "markdown",
   "metadata": {},
   "source": [
    "Q5. If we have the data : \n",
    "\n",
    "5, 8, 15, 7, 10, 22, 3, 1, 15, 10\n",
    "\n",
    "Mark all Statements that are true.\n",
    "\n",
    "\n",
    "    A). The Mode is 15. \n",
    "    B). The Mean is 15. \n",
    "    C). The Mode is 10. \n",
    "    D). None of the above are true. \n",
    "\n",
    "    "
   ]
  },
  {
   "cell_type": "markdown",
   "metadata": {},
   "source": [
    "##### Notation\n",
    "\n",
    "Notation is a common language used to communicate mathematical ideas. Think of notation as a universal language used by academic and industry professionals to convey mathematical ideas. In the next videos, you might see things that seem confusing. Use the quizzes to assist with your understanding of the concepts.\n",
    "\n",
    "You likely already know some notation. Plus, minus, multiply, division, and equal signs all have mathematical symbols that you are likely familiar with. Each of these symbols replaces an idea for how numbers interact with one another. In the coming concepts, you will be introduced to some additional ideas related to notation. Though you will not need to use notation to complete the project, it does have the following properties:\n",
    "\n",
    "    1.Understanding how to correctly use notation makes you seem really smart. Knowing how to read and write in notation is like learning a new language. A language that is used to convey ideas associated with mathematics. \n",
    "\n",
    "\n",
    "    2.It allows you to read documentation, and implement an idea to your own problem. Notation is used to convey how problems are solved all the time. One really popular mathematical algorithm that is used to solve some of the world's most difficult problems is known as Gradient Boosting. The way that it solves problems is explained here: https://en.wikipedia.org/wiki/Gradient_boosting. If you really want to understand how this algorithm works, you need to be able to read and understand notation. \n",
    "\n",
    "\n",
    "    3.It makes ideas that are hard to say in words easier to convey. Sometimes we just don't have the right words to say. For those situations, I prefer to use notation to convey the message. Similar to the way an emoji or meme might convey a feeling better than words, notation can convey an idea better than words.  Usually those ideas are related to mathematics, but I am not here to stifle your creativity."
   ]
  },
  {
   "cell_type": "raw",
   "metadata": {},
   "source": []
  },
  {
   "cell_type": "raw",
   "metadata": {},
   "source": []
  },
  {
   "cell_type": "markdown",
   "metadata": {},
   "source": [
    "#### Example to Introduce Notation\n",
    "\n",
    "##### Rows and Columns\n",
    "\n",
    "If you aren't familiar with spreadsheets, this will be covered in detail in future lessons. Spreadsheets are a common way to hold data. They are composed of rows and columns. Rows run horizontally, while columns run vertically. Each column in a spreadsheet commonly holds a specific variable, while each row is commonly called an instance or individual.\n",
    "\n",
    "The example used in the video is shown below.\n",
    "\n",
    "   <table>\n",
    "    <tr>\n",
    "        <td>Date</td><td>\tDay of Week\t</td><td>Time Spent On Site (X)</td><td>\tBuy (Y)</td>\n",
    "    </tr>\n",
    "    <tr>\n",
    "        <td>June 15\t</td><td>Thursday\t</td><td>5</td><td>\tNo</td>\n",
    "    </tr>\n",
    "    <tr>\n",
    "        <td>June 15</td><td>\tThursday\t</td><td>10\t</td><td>Yes</td>\n",
    "    </tr>\n",
    "    <tr>\n",
    "        <td>June 16</td><td>\tFriday\t</td><td>20</td><td>\tYes</td>\n",
    "    </tr>\n",
    "     </table>\n",
    " \n",
    "This is a row:\n",
    "<table>\n",
    " \n",
    "   <tr>\n",
    "    <td>Date\t</td><td>Day of Week </td><td>\tTime Spent On Site (X) </td><td>\tBuy (Y) </td> </tr>\n",
    "    \n",
    "   <tr><td>June 15\t</td><td>Thursday</td><td>\t5</td><td>\tNo</td><td></tr>\n",
    "</table>\n",
    "This is a column:\n",
    "<table>\n",
    " <tr>\n",
    " <td>Time Spent On Site (X)</td> \n",
    "    </tr>\n",
    " <tr>\n",
    " <td>5</td> \n",
    "    </tr>\n",
    "  <tr>\n",
    " <td>10</td>\n",
    "    </tr>\n",
    " <tr>\n",
    " <td>20</td> \n",
    "    </tr>\n",
    "</table>\n",
    "\n",
    "\n",
    "#### Before Collecting Data\n",
    "\n",
    "Before collecting data, we usually start with a question, or many questions, that we would like to answer. The purpose of data is to help us in answering these questions.\n",
    "\n",
    "#### Random Variables\n",
    "\n",
    "A random variable is a placeholder for the possible values of some process (mostly... the term 'some process' is a bit ambiguous). As was stated before, notation is useful in that it helps us take complex ideas and simplify (often to a single letter or single symbol). We see random variables represented by capital letters (X, Y, or Z are common ways to represent a random variable).\n",
    "\n",
    "We might have the random variable X, which is a holder for the possible values of the amount of time someone spends on our site. Or the random variable Y, which is a holder for the possible values of whether or not an individual purchases a product.\n",
    "\n",
    "X is 'a holder' of the values that could possibly occur for the amount of time spent on our website. Any number from 0 to infinity really."
   ]
  },
  {
   "cell_type": "raw",
   "metadata": {},
   "source": []
  },
  {
   "cell_type": "markdown",
   "metadata": {},
   "source": [
    "#### Example Dataset\n",
    "\n",
    "An example of the data we might have collected in the previous is shown here:\n",
    "\n",
    "<table>\n",
    "    <tr>\n",
    "        <th>Date</th>\n",
    "        <th>Day of Week</th>\n",
    "        <th>Time Spent On Site (X) </th>\n",
    "        <th>Buy (Y)</th>\n",
    "    </tr>\n",
    "    <tr>\n",
    "        <td> June 15 </td>\n",
    "        <td> Thursday </td>\n",
    "        <td> 5 </td>\n",
    "        <td> No </td>\n",
    "    </tr>\n",
    "     <tr>\n",
    "        <td> June 15 </td>\n",
    "        <td> Thursday </td>\n",
    "        <td> 10 </td>\n",
    "        <td> Yes </td>\n",
    "    </tr>\n",
    "     <tr>\n",
    "        <td> June 16 </td>\n",
    "        <td> Friday </td>\n",
    "        <td> 20 </td>\n",
    "        <td> Yes </td>\n",
    "    </tr>\n",
    "    \n",
    "   </table>\n",
    "  \n",
    "#### Q1. What type of variable is the random variable X  in the previous concept ? \n",
    "\n",
    "<p><input type='radio'> Categorical-Ordinal </p>\n",
    "<p><input type='radio'> Categorical-Nominal </p>\n",
    "<p><input type='radio'> Quantitative-Continous </p>\n",
    "<p><input type='radio'> Quantitative-Deiscrete </p>\n",
    "\n",
    "#### Q2. What type of variable is the random variable Y  in the previous concept ? \n",
    "\n",
    "<p><input type='radio'> Categorical-Ordinal </p>\n",
    "<p><input type='radio'> Categorical-Nominal </p>\n",
    "<p><input type='radio'> Quantitative-Continous </p>\n",
    "<p><input type='radio'> Quantitative-Deiscrete </p>"
   ]
  },
  {
   "cell_type": "raw",
   "metadata": {},
   "source": []
  },
  {
   "cell_type": "markdown",
   "metadata": {},
   "source": [
    "#### Capital vs. Lower Case Letters\n",
    "\n",
    "<b>Random variables </b> are represented by capital letters. Once we observe an outcome of these random variables, we notate it as a lower case of the same letter.\n",
    "\n",
    "#### Example 1\n",
    "\n",
    "For example, the <b>amount of time someone spends on our site</b> is a <b>random variable</b> (we are not sure what the outcome will be for any particular visitor), and we would notate this with <b>X</b>. Then when the first person visits the website, if they spend 5 minutes, we have now observed this outcome of our random variable. We would notate any outcome as a lowercase letter with a subscript associated with the order that we observed the outcome.\n",
    "\n",
    "If 5 individuals visit our website, the first spends 10 minutes, the second spends 20 minutes, the third spends 45 mins, the fourth spends 12 minutes, and the fifth spends 8 minutes; we can notate this problem in the following way:\n",
    "\n",
    "<b>X</b> is the amount of time an individual spends on the website.\n",
    "\n",
    "$$ {x_1 = 10,} { \\ \\ \\ \\ }  { x_2 = 20,} {\\ \\ \\ \\  } {x_3 = 45,} { \\ \\ \\ \\ } {x_4 = 12,} {\\ \\ \\ \\  } {x_5 = 8.} $$\n",
    "\n",
    "The capital <b>X</b> is associated with this idea of a <b>random variable</b>, while the observations of the random variable take on lowercase <b>x</b> values.\n",
    "\n",
    "#### Example 2\n",
    "\n",
    "Taking this one step further, we could ask:\n",
    "\n",
    "<b>What is the probability someone spends more than 20 minutes in our website?</b>\n",
    "\n",
    "In notation, we would write:\n",
    "\n",
    "<b>P(X > 20)?</b>\n",
    "\n",
    "Here <b>P</b> stands for <b>probability</b>, while the parentheses encompass the statement for which we would like to find the probability. Since <b>X</b> represents the amount of time spent on the website, this notation represents the probability the amount of time on the website is greater than 20.\n",
    "\n",
    "We could find this in the above example by noticing that only one of the 5 observations exceeds 20. So, we would say there is a <b>1</b> (the 45) <b>in 5 or 20% </b>chance that an individual spends more than 20 minutes on our website (based on this dataset).\n",
    "\n",
    "#### Example 3\n",
    "\n",
    "If we asked:<b> What is the probability of an individual spending 20 or more minutes on our website?</b> We could notate this as:\n",
    "\n",
    "$$ P(X \\geq 20)? $$\n",
    "\n",
    "We could then find this by noticing there are two out of the five individuals that spent 20 or more minutes on the website. So this probability is <b>2 out of 5 or 40%.</b>\n",
    "\n"
   ]
  },
  {
   "cell_type": "raw",
   "metadata": {},
   "source": []
  },
  {
   "cell_type": "markdown",
   "metadata": {},
   "source": [
    "#### Quiz: Introduction to Notation \n",
    "\n",
    "Consider we have the following table:\n",
    "\n",
    "<table>\n",
    "    <tr><th>Years Experience</th> <th> Department </th> <th> Part/Full Time</th></tr>\n",
    "    <tr><td>5</td><td>IT</td><td>Part Time</td></tr>\n",
    "    <tr><td>10</td><td>Finance</td><td>Full Time</td></tr>\n",
    "    <tr><td>8</td><td>HR</td><td>Full Time</td></tr>\n",
    "    <tr><td>2</td><td>Finance</td><td>Part Time</td></tr>\n",
    "    \n",
    "</table>\n",
    "    \n",
    "Consider we have the following labels : \n",
    "\n",
    "<b>X</b> = Years of experience\n",
    "<b>Y</b> = Department\n",
    "<b>Z</b> = Part/Full Time\n",
    "\n",
    "Match the following notation to their corresponding:\n",
    "\n",
    "    A. x1\n",
    "    B. y2\n",
    "    C. z3\n",
    "    D. n \n",
    "\n",
    "Question:  Use the information above to match the correct notation label to its corresponding value.\n",
    "\n",
    "\n"
   ]
  },
  {
   "cell_type": "markdown",
   "metadata": {},
   "source": [
    "#### Notation for Calculating the Mean\n",
    "\n",
    "We know that the mean is calculated as the sum of all our values divided by the number of values in our dataset.\n",
    "\n",
    "In our current notation, adding all of our values together can be extremely tedious. If we want to add 3 values of some random variable together, we would use the notation:\n",
    "\n",
    "$$ {x_1} + {x_2} + {x_3}  $$\n",
    "\n",
    "If we want to add 6 values together, we would use the notation:\n",
    "\n",
    "$$ {x_1} + {x_2} + {x_3} + {x_4} + {x_5} + {x_6} $$\n",
    "\n",
    "To extend this to add one hundred, one thousand, or one million values would be ridiculous! How can we make this easier to communicate?!"
   ]
  },
  {
   "cell_type": "markdown",
   "metadata": {},
   "source": [
    "#### Aggregations\n",
    "\n",
    "An <b>aggregation</b> is a way to turn multiple numbers into fewer numbers (commonly one number).\n",
    "\n",
    "<b>Summation</b> is a common aggregation. The notation used to sum our values is a greek symbol called sigma Σ.\n",
    "\n",
    "###### Example 1\n",
    "\n",
    "Imagine we are looking at the amount of time individuals spend on our website. We collect data from nine individuals:\n",
    "\n",
    "$$ x_1=100,\\ \\ x_2=20, \\ \\ x_3=45, \\ \\ x_4=12, \\ \\ x_5=8, \\ \\ x_6=12, \\ \\ x_7=3, \\ \\ x_8=68, x_9=5 $$\n",
    "\n",
    "If we want to sum the first three values together in our previous notation, we write:\n",
    "\n",
    "$$ x_1 + x_2 + x_3 $$\n",
    "\n",
    "In our new notation, we can write:\n",
    "\n",
    "$$ \\sum\\limits_{i = 1}^3 x_i. $$\n",
    "\n",
    "Notice, our notation starts at the first observation ( <i>i=1</i>) and ends at 3 (the number at the top of our summation).\n",
    "\n",
    "So all of the following are equal to one another:\n",
    "\n",
    "$$ \\sum\\limits_{i = 1}^3 x_i = {x_1} + {x_2} + {x_3} = 10 + 20 + 45 = 75 $$\n",
    "\n",
    "##### Example 2\n",
    "\n",
    "Now, imagine we want to sum the <b>last three values </b> together.\n",
    "\n",
    "$$ {x_7} + {x_8} + {x_9} $$ \n",
    "\n",
    "In our new notation, we can write:\n",
    "\n",
    "$$ \\sum\\limits_{i = 7}^9 x_i. $$ \n",
    "\n",
    "Notice, our notation starts at the seventh observation (<i>i=7</i>) and ends at 9 (the number at the top of our summation).\n",
    "\n",
    "#### Other Aggregations\n",
    "\n",
    "The Σ sign is used for aggregating using summation, but we might choose to aggregate in other ways. Summing is one of the most common ways to need to aggregate. However, we might need to aggregate in alternative ways. If we wanted to multiply all of our values together we would use a product sign Π , capital Greek letter pi. The way we aggregate continuous values is with something known as integration (a common technique in calculus), which uses the following symbol ∫ which is just a long s. We will not be using integrals or products for quizzes in this class, but you may see them in the future!\n"
   ]
  },
  {
   "cell_type": "raw",
   "metadata": {},
   "source": []
  },
  {
   "cell_type": "markdown",
   "metadata": {},
   "source": [
    "#### Final Steps for Calculating the Mean\n",
    "\n",
    "To finalize our calculation of the mean, we introduce n as the total number of values in our dataset. We can use this notation both at the top of our summation, as well as for the value that we divide by when calculating the mean.\n",
    "\n",
    "$$ \\frac{1}{n}\\sum\\limits_{i=1}^nx_i $$ \n",
    "\n",
    "Instead of writing out all of the above, we commonly write\n",
    "$$ \\bar{x} $$ to represent the mean of a dataset.\n",
    "\n",
    "We also could index using any other letter, not just ii. We could just as easily use j, k, or m to index each of our data values. The quizzes on the next concept will help reinforce this idea.\n",
    "\n",
    "Notice\n",
    "\n",
    "At second 0:12, this should say \n",
    "$$ \\sum\\limits_{i=1}^5 x_i = x_1 + x_2 + x_3 + x_4 + x_5 $$ \n",
    " is missing here in front of the summation."
   ]
  },
  {
   "cell_type": "raw",
   "metadata": {},
   "source": []
  },
  {
   "cell_type": "markdown",
   "metadata": {},
   "source": [
    "#### Quiz Summation \n",
    "\n",
    "##### Match The Notation\n",
    "\n",
    "For this quiz, you will be matching the notation attached the letters below to the corresponding numeric value to make sure you understand exactly what is being done with each part of the notation.\n",
    "\n",
    "Imagine, we have the following table of values:\n",
    "\n",
    "<table>\n",
    "    <tr><th>x1</th><th>x2</th><th>x3</th><th>x4</th><th>x5</th><th>x6</th><th>x7</th></tr>\n",
    "    <tr><td>5</td><td>15</td><td>3</td><td>3</td><td>8</td><td>10</td><td>12</td></tr>\n",
    "</table>\n",
    "\n",
    "$$ A. n \\ \\ \\ \\ \\  B. \\sum\\limits_{i=1}^n {x_i}  \\ \\ \\ \\ \\ C. \\sum\\limits_{j=2}^7 {x_j}+7 \\ \\ \\ \\ \\ \\ D. x_5 \\ \\ \\ \\ \\ \\ E. \\frac {\\sum\\limits_{i=3}^6{x_i} } {n-1}$$\n",
    "\n",
    "##### Write down the value of A, B, C, D, and E from values (39,7,56,15,57,8,4)"
   ]
  },
  {
   "cell_type": "markdown",
   "metadata": {},
   "source": [
    "#### Notation for Quizzes \n",
    "\n",
    "For the below quiz, let the Following letters denote the corresponding notation: \n",
    "\n",
    "$$ A. X \\ \\ \\ \\ \\ \\ B. Y \\ \\ \\ \\ \\ \\ C. x_1 \\ \\ \\ \\ \\ \\ D. n\\ \\ \\ \\ \\ \\ E. \\sum\\limits_{i=1}^n {x_i}  $$"
   ]
  },
  {
   "cell_type": "markdown",
   "metadata": {},
   "source": [
    "#### Q1. Use the letter next to the notation above to match the notation to the description of what the notation represents.\n",
    "\n",
    "Description Options are --> \n",
    "\n",
    "    1. The notation for the number of columns in our dataset. \n",
    "    2. The notation for a random variable.\n",
    "    3. The notation for all of the values in our dataset.\n",
    "    4. The notation for a random variable\n",
    "    5. The notation for all of the variable in our dataset\n",
    "    6. The notation for the sum of all the values in our dataset\n",
    "    7. The notation for the first observed value of a random variable. \n",
    "    8. The notation for the number of rows in our dataset."
   ]
  },
  {
   "cell_type": "markdown",
   "metadata": {},
   "source": [
    "#### Q2. Notation for Quizzes \n",
    "\n",
    "For the below quiz, let the following letters denote the corresponding notation: \n",
    "\n",
    "$$  A. \\sum\\limits_{i=1}^n {x_i} \\ \\ \\ \\ \\ \\ B. \\frac {\\sum\\limits_{i=1}^n {x_i}} {n} \\ \\ \\ \\ \\ \\ C. \\bar {X} \\ \\ \\ \\ \\ \\ D. \\bar{Y}\\ \\ \\ \\ \\ \\ E. \\frac {\\sum\\limits_{j=1}^n {y_j} } {n}   $$"
   ]
  },
  {
   "cell_type": "markdown",
   "metadata": {},
   "source": [
    "If we wanted to provide notation for the mean of a particular dataset, which of the following letters would correspond to the notation attached to calculating the mean? (Mark all that apply.)\n",
    "\n",
    "<p><input type='checkbox'>A</p>\n",
    "<p><input type='checkbox'>B</p>\n",
    "<p><input type='checkbox'>C</p>\n",
    "<p><input type='checkbox'>D</p>\n",
    "<p><input type='checkbox'>E</p>"
   ]
  },
  {
   "cell_type": "markdown",
   "metadata": {},
   "source": [
    "#### Notation Recap\n",
    "\n",
    "Notation is an essential tool for communicating mathematical ideas. We have introduced the fundamentals of notation in this lesson that will allow you to read, write, and communicate with others using your new skills!"
   ]
  },
  {
   "cell_type": "markdown",
   "metadata": {},
   "source": [
    "#### Notation and Random Variables\n",
    "\n",
    "As a quick recap, <b>capital letters</b> signify <b>random variables</b>. When we look at <b>individual instances</b> of a particular random variable, we identify these as <b>lowercase letters</b> with subscripts attach themselves to each specific observation.\n",
    "\n",
    "For example, we might have <b>X</b> be the amount of time an individual spends on our website. Our first visitor arrives and spends 10 minutes on our website, and we would say $${x_1}$$ is 10 minutes.\n",
    "\n",
    "We might imagine the random variables as columns in our dataset, while a particular value would be notated with the lower case letters."
   ]
  },
  {
   "cell_type": "code",
   "execution_count": null,
   "metadata": {},
   "outputs": [],
   "source": []
  },
  {
   "cell_type": "code",
   "execution_count": null,
   "metadata": {},
   "outputs": [],
   "source": []
  },
  {
   "cell_type": "markdown",
   "metadata": {},
   "source": [
    "#### Descriptive vs. Inferential Statistics\n",
    "\n",
    "In this section, we learned about how Inferential Statistics differs from Descriptive Statistics.\n",
    "\n",
    "#### Descriptive Statistics\n",
    "\n",
    "Descriptive statistics is about describing our collected data using the measures discussed throughout this lesson: measures of center, measures of spread, shape of our distribution, and outliers. We can also use plots of our data to gain a better understanding.\n",
    "\n",
    "#### Inferential Statistics\n",
    "\n",
    "Inferential Statistics is about using our collected data to draw conclusions to a larger population. Performing inferential statistics well requires that we take a sample that accurately represents our population of interest.\n",
    "\n",
    "A common way to collect data is via a survey. However, surveys may be extremely biased depending on the types of questions that are asked, and the way the questions are asked. This is a topic you should think about when tackling the first project.\n",
    "\n",
    "We looked at specific examples that allowed us to identify the\n",
    "\n",
    "    Population - our entire group of interest.\n",
    "    Parameter - numeric summary about a population\n",
    "    Sample - subset of the population\n",
    "    Statistic - numeric summary about a sample\n"
   ]
  },
  {
   "cell_type": "code",
   "execution_count": null,
   "metadata": {},
   "outputs": [],
   "source": []
  },
  {
   "cell_type": "markdown",
   "metadata": {},
   "source": [
    "#### Quantitive Variables  Measures \n",
    "\n",
    "    Center\n",
    "    Spread\n",
    "    Shape\n",
    "    Outliers"
   ]
  },
  {
   "cell_type": "markdown",
   "metadata": {},
   "source": [
    "#### Measures of Spread\n",
    "\n",
    "Measures of Spread are used to provide us an idea of how spread out our data are from one another. Common measures of spread include:\n",
    "\n",
    "    Range\n",
    "    Interquartile Range (IQR)\n",
    "    Standard Deviation\n",
    "    Variance\n",
    "\n",
    "Throughout this lesson you will learn how to calculate these, as well as why we would use one measure of spread over another.\n",
    "\n"
   ]
  },
  {
   "cell_type": "raw",
   "metadata": {},
   "source": []
  },
  {
   "cell_type": "markdown",
   "metadata": {},
   "source": [
    "#### Histograms\n",
    "\n",
    "Histograms are super useful to understanding the different aspects of quantitative data. In the upcoming concepts, you will see histograms used all the time to help you understand the four aspects we outlined earlier regarding a quantitative variable:\n",
    "\n",
    "    center\n",
    "    spread\n",
    "    shape\n",
    "    outliers"
   ]
  },
  {
   "cell_type": "code",
   "execution_count": 1,
   "metadata": {},
   "outputs": [
    {
     "data": {
      "image/png": "[encoded data removed]",
      "text/plain": [
       "<Figure size 432x288 with 1 Axes>"
      ]
     },
     "metadata": {
      "needs_background": "light"
     },
     "output_type": "display_data"
    },
    {
     "data": {
      "text/plain": [
       "54.34537811988778"
      ]
     },
     "execution_count": 1,
     "metadata": {},
     "output_type": "execute_result"
    }
   ],
   "source": [
    "import numpy as np \n",
    "import matplotlib.pyplot as plt\n",
    "%matplotlib inline\n",
    "data = np.random.normal(55.5,10.5,1000)\n",
    "plt.hist(data,bins=30,edgecolor='black')\n",
    "mean = data.mean()\n",
    "median = (data[500]+data[499])/2\n",
    "plt.plot([mean,mean],[0,110],'r')\n",
    "plt.plot([median,median],[0,110],'g')\n",
    "plt.show()\n",
    "median"
   ]
  },
  {
   "cell_type": "markdown",
   "metadata": {},
   "source": [
    "#### Calculating the 5 Number Summary\n",
    "\n",
    "The five number summary consist of 5 values:\n",
    "\n",
    "###### Minimum: The smallest number in the dataset.\n",
    "\n",
    "###### Q 1: The value such that 25% of the data fall below.\n",
    "\n",
    "###### Q 2: The value such that 50% of the data fall below.\n",
    "\n",
    "###### Q 3: The value such that 75% of the data fall below.\n",
    "\n",
    "###### Maximum: The largest value in the dataset.\n",
    "\n",
    "We saw that calculating each of these values was essentially just finding the median of a bunch of different dataset. Because we are essentially calculating a bunch of medians, the calculation depends on whether we have an odd or even number of values.\n",
    "\n",
    "###### Range\n",
    "\n",
    "The range is then calculated as the difference between the maximum and the minimum.\n",
    "\n",
    "###### IQR\n",
    "\n",
    "The interquartile range is calculated as the difference between Q3 and Q1 "
   ]
  },
  {
   "cell_type": "raw",
   "metadata": {},
   "source": []
  },
  {
   "cell_type": "markdown",
   "metadata": {},
   "source": [
    "\n",
    "What is the range associated with the following dataset?\n",
    "\n",
    "1, 5, 10, 3, 8, 12, 4, 1, 2, 8\n",
    "\n"
   ]
  },
  {
   "cell_type": "code",
   "execution_count": null,
   "metadata": {},
   "outputs": [],
   "source": []
  },
  {
   "cell_type": "markdown",
   "metadata": {},
   "source": [
    "Provided the values below, what is the value of the first quartile?\n",
    "\n",
    "Remember the first quartile is the median number (middle number) of the first half of the numbers when put in ranked order. Ranked order for this dataset is 1,1,2,3,4...\n",
    "\n",
    "1, 5, 10, 3, 8, 12, 4, 1, 2, 8\n",
    "\n"
   ]
  },
  {
   "cell_type": "code",
   "execution_count": null,
   "metadata": {},
   "outputs": [],
   "source": []
  },
  {
   "cell_type": "markdown",
   "metadata": {},
   "source": [
    "Provided the values below, what is the value of the third quartile?\n",
    "\n",
    "1, 5, 10, 3, 8, 12, 4, 1, 2, 8\n",
    "\n"
   ]
  },
  {
   "cell_type": "code",
   "execution_count": null,
   "metadata": {},
   "outputs": [],
   "source": []
  },
  {
   "cell_type": "markdown",
   "metadata": {},
   "source": [
    "Provided the values below, what is the value of the median? (this is the same as the second quartile)\n",
    "\n",
    "1, 5, 10, 3, 8, 12, 4, 1, 2, 8\n"
   ]
  },
  {
   "cell_type": "code",
   "execution_count": null,
   "metadata": {},
   "outputs": [],
   "source": []
  },
  {
   "cell_type": "markdown",
   "metadata": {},
   "source": [
    "Provided the values below, what is the value of the median? (this is the same as the second quartile)\n",
    "\n",
    "5, 10, 3, 8, 12, 4, 1, 2, 8\n",
    "\n"
   ]
  },
  {
   "cell_type": "code",
   "execution_count": null,
   "metadata": {},
   "outputs": [],
   "source": []
  },
  {
   "cell_type": "markdown",
   "metadata": {},
   "source": [
    "\n",
    "Provided the values below, what is the range? (The range should just be a single number)\n",
    "\n",
    "5, 10, 3, 8, 12, 4, 1, 2, 8\n"
   ]
  },
  {
   "cell_type": "code",
   "execution_count": null,
   "metadata": {},
   "outputs": [],
   "source": []
  },
  {
   "cell_type": "markdown",
   "metadata": {},
   "source": [
    "Provided the values below, what is the the value for the first quartile?\n",
    "\n",
    "5, 10, 3, 8, 12, 4, 1, 2, 8\n",
    "\n"
   ]
  },
  {
   "cell_type": "code",
   "execution_count": null,
   "metadata": {},
   "outputs": [],
   "source": []
  },
  {
   "cell_type": "markdown",
   "metadata": {},
   "source": [
    "Provided the values below, what is the the value for the third quartile?\n",
    "\n",
    "5, 10, 3, 8, 12, 4, 1, 2, 8\n",
    "\n"
   ]
  },
  {
   "cell_type": "code",
   "execution_count": null,
   "metadata": {},
   "outputs": [],
   "source": []
  },
  {
   "cell_type": "markdown",
   "metadata": {},
   "source": [
    "#### Standard Deviation and Variance\n",
    "\n",
    "The standard deviation is one of the most common measures for talking about the spread of data. It is defined as the average distance of each observation from the mean.\n",
    "\n"
   ]
  },
  {
   "cell_type": "markdown",
   "metadata": {},
   "source": [
    "#### Q1. If we measure the variance associated with our sales in dollars for each month for 3 years, what are the units associated with the variance ? \n",
    "\n",
    "<p><input type='radio'>Dollars </p>\n",
    "<p><input type='radio'>Years </p>\n",
    "<p><input type='radio'>Dollars per Year </p>\n",
    "<p><input type='radio'>Dollars Squared </p>\n",
    "<p><input type='radio'>Dollars per Month</p>\n",
    "\n"
   ]
  },
  {
   "cell_type": "markdown",
   "metadata": {},
   "source": [
    "#### Q2. For the following set of data provide the value of the variance.\n",
    "\n",
    "Remember to find the variance we first find the mean average of the values, then subtract the mean from each value, then square each of these values, then add them up, then divide by the number of values. (Round your answer to two decimal places at the end of your calculation - don't round along the way.)\n",
    "\n",
    "1, 5, 10, 3, 8, 12, 4\n",
    "\n"
   ]
  },
  {
   "cell_type": "code",
   "execution_count": null,
   "metadata": {},
   "outputs": [],
   "source": []
  },
  {
   "cell_type": "markdown",
   "metadata": {},
   "source": [
    "#### Q3.For the following set of data provide the value of the standard deviation.\n",
    "\n",
    "Remember the >standard deviation is the square root of the variance (Round your answer to two decimal places at the end of your calculation.)\n",
    "\n",
    "1, 5, 10, 3, 8, 12, 4\n",
    "\n"
   ]
  },
  {
   "cell_type": "code",
   "execution_count": null,
   "metadata": {},
   "outputs": [],
   "source": []
  },
  {
   "cell_type": "markdown",
   "metadata": {},
   "source": [
    "##### Other Measures of Spread\n",
    "\n",
    "###### 5 Number Summary\n",
    "\n",
    "In the previous sections, we have seen how to calculate the values associated with the five number summary (min, Q1, Q2,Q3,max), as well as the measures of spread associated with these values (range and IQR).\n"
   ]
  },
  {
   "cell_type": "markdown",
   "metadata": {},
   "source": [
    "\n",
    "For datasets that are not symmetric, the five number summary and a corresponding box plot are a great way to get started with understanding the spread of your data. Although I still prefer a histogram in most cases, box plots can be easier to compare two or more groups.\n",
    "\n",
    "\n",
    "##### Variance and Standard Deviation\n",
    "\n",
    "Two additional measures of spread that are used all the time are the variance and standard deviation. At first glance, the variance and standard deviation can seem overwhelming.\n",
    "\n",
    "Question to answer before choosing standard deviation or variance \n",
    "\n",
    "    How the mean, variance and standard deviation are calculated ? \n",
    "    Why the measures of variance and standard deviation make sense to capture the spread of our data ? \n",
    "    Fields where you might see these values used ? \n",
    "    Why we might use the standard deviation or variance as opposed to the   values associated with the 5 number summary for a particular dataset ?\n",
    "        "
   ]
  },
  {
   "cell_type": "markdown",
   "metadata": {},
   "source": [
    "#### Calculation\n",
    "\n",
    "We calculate the variance in the following way:\n",
    "\n",
    "$$ \\frac{1}{n}\\sum\\limits_{i=1}^n(x_i - \\bar{x})^2 $$ \n",
    "\n",
    "The variance is the average squared difference of each observation from the mean.\n",
    "\n",
    "\n",
    "The standard deviation is the square root of the variance. Therefore, the formula for the standard deviation is the following:\n",
    "\n",
    "$$ \\sqrt{\\frac{1}{n}\\sum\\limits_{i=1}^n(x_i - \\bar{x})^2} $$ \n",
    "\n",
    "\n",
    "The standard deviation is a measurement that has the same units as our original data, while the units of the variance are the square of the units in our original data.\n",
    "\n",
    "For example, if the units in our original data were dollars, then units of the standard deviation would also be dollars, while the units of the variance would be dollars squared.\n"
   ]
  },
  {
   "cell_type": "code",
   "execution_count": null,
   "metadata": {},
   "outputs": [],
   "source": []
  },
  {
   "cell_type": "markdown",
   "metadata": {},
   "source": [
    "#### Important Final Points\n",
    "\n",
    "    1. The variance is used to compare the spread of two different groups. A set of data with higher variance is more spread out than a dataset with lower variance. Be careful though, there might just be an outlier (or outliers) that is increasing the variance, when most of the data are actually very close.\n",
    "\n",
    "\n",
    "    2. When comparing the spread between two datasets, the units of each must be the same.\n",
    "\n",
    "\n",
    "    3. When data are related to money or the economy, higher variance (or standard deviation) is associated with higher risk.\n",
    "\n",
    "\n",
    "    4. The standard deviation is used more often in practice than the variance, because it shares the units of the original dataset.\n",
    "\n",
    "##### Use in the World\n",
    "\n",
    "The standard deviation is associated with risk in finance, assists in determining the significance of drugs in medical studies, and measures the error of our results for predicting anything from the amount of rainfall we can expect tomorrow to your predicted commute time tomorrow.\n",
    "\n",
    "These applications are beyond the scope of this course as they pertain to specific fields, but know that understanding the spread of a particular set of data is extremely important to many areas. In this lesson you mastered the calculation of the most common measures of spread.\n",
    "\n"
   ]
  },
  {
   "cell_type": "markdown",
   "metadata": {},
   "source": [
    "#### Q1. Assume d1 and d2 are datasets both measured in the same units. We know that the standard deviation of d1 is 5 and the variance of d2 is 36, which of the following are certainly true. Mark all that apply.\n",
    "\n",
    "Remember the Standard Deviation is the square root of the variance. So if the Variance is 4 the Standard Deviation would be 2\n",
    "\n",
    "<p> <input type='checkbox'>The mean is larger for d1 than for d2.</p>\n",
    "<p> <input type='checkbox'>The variance for d2 is larger than for d1.</p>\n",
    "<p> <input type='checkbox'> The Standard Deviation for d2 is larger than for d1.</p>\n",
    "<p> <input type='checkbox'> The median for d2 is larger than for d1.</p>\n",
    "<p> <input type='checkbox'> The range for d2 is larger than for d1.</p>"
   ]
  },
  {
   "cell_type": "markdown",
   "metadata": {},
   "source": [
    "#### Q2. If a dataset has a standard deviation of zero, which of the following MUST be true?\n",
    "\n",
    "<p> <input type='radio'> All the data must be zero </p>\n",
    "<p> <input type='radio'> All the data points must be the same </p>\n",
    "<p> <input type='radio'> We made a calculation error because it is not possible for the standard deviation to be zero</p>"
   ]
  },
  {
   "cell_type": "markdown",
   "metadata": {},
   "source": [
    "#### Q3. or each of the below: If the statement is true, mark the box next to the statement.\n",
    "\n",
    "<p> <input type='checkbox'> If two dataset have the same variance, they will also have the same standard deviation. </p>\n",
    "<p> <input type='checkbox'> If I have two investment options with the same mean return, it really doesn't matter which I invest in. </p>\n",
    "<p> <input type='checkbox'> If I have two investment options with the same standard deviation associated with the return, they will also have the same max possible return. </p>"
   ]
  },
  {
   "cell_type": "markdown",
   "metadata": {},
   "source": [
    "#### Investment Data\n",
    "\n",
    "Consider we have two investment opportunities: \n",
    "\n",
    "                                Returns \n",
    "<table>\n",
    "<tr>    <th> </th> <th> Year1 </th> <th> Year2 </th><th> Year3 </th><th> Year4 </th><th> Year5</th><th> Year6 </th> <tr>\n",
    "    <tr> <th> Investment1 </th> <th> 5% </th><th> 5% </th><th> 5% </th><th> 5% </th><th> 5% </th><th> 5% </th> </tr>\n",
    "\n",
    "   <tr> <th> Investment2 </th> <th> 12% </th><th> -2% </th><th> 10% </th><th> 0% </th><th> 7% </th><th> 3% </th> </tr>\n",
    "\n",
    "</table>\n",
    "\n",
    "The returns for 6 consecutive years for each investment are shown above. Use this information to answer the questions below.\n",
    "    "
   ]
  },
  {
   "cell_type": "markdown",
   "metadata": {},
   "source": [
    "#### Q1. What is the mean return for Investment 1? (Write your answer as a percentage without the percentage sign - Ex: 9% should be reported as 9 or 93% is reported as 93.)"
   ]
  },
  {
   "cell_type": "markdown",
   "metadata": {},
   "source": [
    "#### Q2. What is the mean return for Investment 2? (Write your answer as a percentage without the percentage sign - Ex: 9% should be reported as 9 or 93% is reported as 93.)\n",
    "\n"
   ]
  },
  {
   "cell_type": "markdown",
   "metadata": {},
   "source": [
    "### Investment Data\n",
    "\n",
    "\n",
    "In the previous two questions, you should have found that these investments have the same mean! That is, regardless of which investment opportunity you choose, you are expected to earn the same amount. So how are they different? Let's look at some additional questions to see if we can find some differences.\n",
    "\n",
    "The same data as above is provided again (to minimize scrolling).\n",
    "\n",
    "\n",
    "                                Returns \n",
    "<table>\n",
    "<tr>    <th> </th> <th> Year1 </th> <th> Year2 </th><th> Year3 </th><th> Year4 </th><th> Year5</th><th> Year6 </th> <tr>\n",
    "    <tr> <th> Investment1 </th> <th> 5% </th><th> 5% </th><th> 5% </th><th> 5% </th><th> 5% </th><th> 5% </th> </tr>\n",
    "\n",
    "   <tr> <th> Investment2 </th> <th> 12% </th><th> -2% </th><th> 10% </th><th> 0% </th><th> 7% </th><th> 3% </th> </tr>\n",
    "\n",
    "</table>\n",
    "\n",
    "The returns for 6 consecutive years for each investment are shown above. Use this information to answer the questions below."
   ]
  },
  {
   "cell_type": "markdown",
   "metadata": {},
   "source": [
    "#### Q3. Using the information above, mark all of the below that are true statements.\n",
    "\n",
    "<p> <input type='checkbox'> The risk associated with investment 1 is lower than the risk associated with investment2. </p>\n",
    "<p> <input type='checkbox'> The standard deviation associated with Investment 1 is smaller than the standard deviation associated with Investment2. </p>\n",
    "<p> <input type='checkbox'> Knowing the mean return amount across all the years for each investment us with all of the information necessary to understand which investment we should choose.</p>\n",
    "\n",
    "\n"
   ]
  },
  {
   "cell_type": "markdown",
   "metadata": {},
   "source": [
    "#### Q4. Based on the observed data, which of the above two investments has the best opportunity of earning more than 7%?\n",
    "\n",
    "<p> <input type='radio'> Investment1.</p>\n",
    "<p> <input type='radio'> Investment2.</p>\n",
    "<p> <input type='radio'> Neither.</p>\n",
    "<p> <input type='radio'> We can not tell.</p>\n"
   ]
  },
  {
   "cell_type": "markdown",
   "metadata": {},
   "source": [
    "###### Useful Insight\n",
    "\n",
    "The above example is a simplified version of the real world, but does point out something useful that you may have heard before. Notice if you were not fully invested in either Investment 1 or fully invested in Investment 2, but instead you were diversified across both investment options, you could earn more than either investment individually. This is the benefit of diversifying your portfolio for long term gains. For short term gains, you might not need or want to diversify. You could get lucky and hit short term gains associated with the upswings (12%, 10%, or 7%) of Investment 2. However, you might also get unlucky, and hit a down term and earn nothing or even lose money on your investment using this same strategy."
   ]
  },
  {
   "cell_type": "raw",
   "metadata": {},
   "source": []
  },
  {
   "cell_type": "markdown",
   "metadata": {},
   "source": [
    "### Final Quiz on Measures Spread \n",
    "\n",
    "###### Q1. For the following dataset, match each value to the appropriate label:\n",
    "\n",
    "    15, 4, 3, 8, 15, 22, 7, 9, 2, 3, 3, 12, 6\n",
    "    \n",
    "<b>Term </b> n, median, first quartile, third quartile, mean, mode \n",
    "\n",
    "\n",
    "<b> Values </b> 13.5, 7, 3, 8.4, 3, 13 "
   ]
  },
  {
   "cell_type": "markdown",
   "metadata": {},
   "source": [
    "#### Q2. For the following dataset, match each value to the appropriate label:\n",
    "\n",
    "    15, 4, 3, 8, 15, 22, 7, 9, 2, 3, 3, 12, 6\n",
    "    \n",
    "<b>Term</b> interquartile range, range, variance, standard deviation, minimum, maximum\n",
    "\n",
    "<b>Values </b> 33.9, 20, 2, 10.5, 22, 5.8"
   ]
  },
  {
   "cell_type": "raw",
   "metadata": {},
   "source": []
  },
  {
   "cell_type": "markdown",
   "metadata": {},
   "source": [
    "#### Measures of Center and Spread Summary\n",
    "\n",
    "###### Variable Types\n",
    "\n",
    "We have covered a lot up to this point! We started with identifying data types as either categorical or quantitative. We then learned, we could identify quantitative variables as either continuous or discrete. We also found we could identify categorical variables as either ordinal or nominal.\n",
    "\n",
    "###### Categorical Variables\n",
    "\n",
    "When analyzing categorical variables, we commonly just look at the count or percent of a group that falls into each level of a category. For example, if we had two levels of a dog category: lab and not lab. We might say, 32% of the dogs were lab (percent), or we might say 32 of the 100 dogs I saw were labs (count).\n",
    "\n",
    "However, the 4 aspects associated with describing quantitative variables are not used to describe categorical variables.\n",
    "\n",
    "###### Quantitative Variables\n",
    "\n",
    "Then we learned there are four main aspects used to describe quantitative variables:\n",
    "\n",
    "    Measures of Center\n",
    "    Measures of Spread\n",
    "    Shape of the Distribution\n",
    "    Outliers\n",
    "\n",
    "###### We looked at calculating measures of Center\n",
    "\n",
    "    Means\n",
    "    Medians\n",
    "    Modes\n",
    "    \n",
    "###### We also looked at calculating measures of Spread\n",
    "\n",
    "Range\n",
    "    Interquartile Range\n",
    "    Standard Deviation\n",
    "    Variance\n",
    "    Calculating Variance\n",
    "\n",
    "\n",
    "###### We saw that we could calculate the variance as:\n",
    "\n",
    "$$ {\\frac{1}{n}\\sum\\limits_{i=1}^n(x_i - \\bar{x})^2} $$ \n",
    "\n",
    "You will also see:\n",
    "\n",
    "$$ {\\frac{1}{n-1}\\sum\\limits_{i=1}^n(x_i - \\bar{x})^2} $$\n",
    " \n",
    "\n",
    "The reason for this is beyond the scope of what we have covered thus far, but you can find an explanation here.\n",
    "\n",
    "You can commonly find answers to your questions with a quick Google search. Now is a great time to get started with this practice! This answer should make more sense at the completion of this lesson.\n",
    "\n",
    "\n",
    "#### Standard Deviation vs. Variance\n",
    "\n",
    "The standard deviation is the square root of the variance. In practice, you usually use the standard deviation rather than the variance. The reason for this is because the standard deviation shares the same units with our original data, while the variance has squared units.\n",
    "\n",
    "\n"
   ]
  },
  {
   "cell_type": "raw",
   "metadata": {},
   "source": []
  },
  {
   "cell_type": "markdown",
   "metadata": {},
   "source": [
    "#### Histograms\n",
    "\n",
    "We learned how to build a histogram in this video, as this is the most popular visual for quantitative data.\n",
    "\n",
    "##### Shape\n",
    "\n",
    "From a histogram we can quickly identify the shape of our data, which helps influence all of the measures we learned in the previous concepts. We learned that the distribution of our data is frequently associated with one of the three shapes:\n",
    "\n",
    "    1. Right-skewed\n",
    "\n",
    "    2. Left-skewed\n",
    "\n",
    "    3. Symmetric (frequently normally distributed)\n",
    "\n",
    "##### Summary\n",
    "\n",
    "<table>\n",
    "    <tr><th>Shape</th><th> Mean vs. Median</th><th>\tReal World Applications</th></tr>\n",
    "    <tr><td>Symmetric (Normal)</td><td>Mean equals Median</td><td>Height, Weight, Errors, Precipitation</td></tr>\n",
    "\n",
    "<tr><td>Right-skewed</td><td>\tMean greater than Median</td><td>\t\n",
    "Amount of drug remaining in a blood stream, Time between phone calls at a call center, Time until light bulb dies </td> </tr>\n",
    "<tr><td> Left-skewed\t</td><td>Mean less than Median</td><td>\tGrades as a percentage in many universities, Age of death, Asset price changes</td>\n",
    "\n",
    "\n",
    "###### The mode of a distribution is essentially the tallest bar in a histogram. There may be multiple modes depending on the number of peaks in our histogram."
   ]
  },
  {
   "cell_type": "markdown",
   "metadata": {},
   "source": [
    "#### References\n",
    "\n",
    "These are the references used to pull the applications of each shape.\n",
    "\n",
    "Quora https://www.quora.com/What-are-some-real-world-examples-of-normally-distributed-quantities\n",
    "    \n",
    "\n",
    "University of Texas https://www.utdallas.edu/~scniu/OPRE-6301/documents/Important_Probability_Distributions.pdf\n",
    "\n",
    "Stack Exchange https://stats.stackexchange.com/questions/89179/real-life-examples-of-distributions-with-negative-skewness"
   ]
  },
  {
   "cell_type": "raw",
   "metadata": {},
   "source": [
    " # Bell Curve ==  Normal Distribution "
   ]
  },
  {
   "cell_type": "markdown",
   "metadata": {},
   "source": [
    "#### Q1. Match the distribution shape with the correct relationship in comparing the mean to the median.\n",
    "\n",
    "<b>SHAPE : </b> \n",
    "\n",
    "    Right-skewed \n",
    "    Left-skewed \n",
    "    Symmetric \n",
    "\n",
    "<b> COMPARISION : </b> \n",
    "\n",
    "    cannot be Determined.\n",
    "    Mean is equal to the Median.\n",
    "    Mean is greter than the Median.\n",
    "    Mean is less than the Median."
   ]
  },
  {
   "cell_type": "markdown",
   "metadata": {},
   "source": [
    "#### Q2. Check all of the below that must be true. \n",
    "\n",
    "<p> <input type='checkbox'> For every dataset the mean equals the median, so every set is normally distributed.</p>\n",
    "<p> <input type='checkbox'> Normally distributed data must have a mean equal the median.</p>\n",
    "<p> <input type='checkbox'> All data sets are normally distributed. </p>\n",
    "<p> <input type='checkbox'> Data must be distributed either right-skewed or left-skewed. </p>\n",
    "<p> <input type='checkbox'> Histograms and box plots are both used to plot quantitative data. They cannot be used to plot categorical data.</p>\n",
    "<p> <input type='checkbox'> A box plot relates directly to the 5 number summary.</p>\n"
   ]
  },
  {
   "cell_type": "raw",
   "metadata": {},
   "source": []
  },
  {
   "cell_type": "markdown",
   "metadata": {},
   "source": [
    "#### Shape and Outliers"
   ]
  },
  {
   "cell_type": "markdown",
   "metadata": {},
   "source": [
    "#### Outliers\n",
    "\n",
    "We learned that outliers are points that fall very far from the rest of our data points. This influences measures like the mean and standard deviation much more than measures associated with the five number summary.\n",
    "\n",
    "##### Identifying Outliers\n",
    "\n",
    "There are a number of different techniques for identifying outliers. A full paper on this topic is provided here http://d-scholarship.pitt.edu/7948/1/Seo.pdf. In general, I usually just look at a picture and see if something looks suspicious!"
   ]
  },
  {
   "cell_type": "markdown",
   "metadata": {},
   "source": [
    "This is comes under anomly detection "
   ]
  },
  {
   "cell_type": "raw",
   "metadata": {},
   "source": []
  },
  {
   "cell_type": "markdown",
   "metadata": {},
   "source": [
    "#### Common Techniques\n",
    "\n",
    "When outliers are present we should consider the following points.\n",
    "\n",
    "    1. Nothing they exist and they impact on summary statistics.\n",
    "\n",
    "    2. if typo - remove or fix\n",
    "\n",
    "    3. Understanding why they exist, and the impact on questions we are trying to answer about our data.\n",
    "\n",
    "    4. Reporting the 5 number summary values is often a better indication than measures like the mean and standard deviation when we have outliers.\n",
    "\n",
    "    5. Be careful in reporting. Know how to ask the right questions.\n"
   ]
  },
  {
   "cell_type": "markdown",
   "metadata": {},
   "source": [
    "sources https://data.library.virginia.edu/understanding-q-q-plots/\n",
    "https://en.wikipedia.org/wiki/Kolmogorov%E2%80%93Smirnov_test"
   ]
  },
  {
   "cell_type": "raw",
   "metadata": {},
   "source": []
  },
  {
   "cell_type": "markdown",
   "metadata": {},
   "source": [
    "#### Descriptive vs. Inferential Statistics\n",
    "\n",
    "In this section, we learned about how Inferential Statistics differs from \n",
    "\n",
    "\n",
    "    Descriptive statistics is about describing our collected data.\n",
    "\n",
    "    Inferential Statistics is about using our collected data to draw conclusions to a larger population.\n",
    "\n",
    "\n",
    "We looked at specific examples that allowed us to identify the\n",
    "\n",
    "    Population - our entire group of interest.\n",
    "\n",
    "    Parameter - numeric summary about a population\n",
    "\n",
    "    Sample - subset of the population\n",
    "\n",
    "    Statistic numeric summary about a sample\n"
   ]
  },
  {
   "cell_type": "raw",
   "metadata": {},
   "source": []
  },
  {
   "cell_type": "markdown",
   "metadata": {},
   "source": [
    "#### To Deal in Data in Real Life Follow this pattern \n",
    "    1. plot data \n",
    "    2. Detect outliers and fix them\n",
    "    3. Bell-Shaped Data\n",
    "    4. Skewed Data"
   ]
  },
  {
   "cell_type": "markdown",
   "metadata": {},
   "source": [
    "## Quiz: Shape and Outliers(Comparing Distributions)\n",
    "\n",
    "#### Image Summary\n",
    "\n",
    "In the below image, we have three box-plots. Each box-plot is for a different Iris flower: <b>setosa, versicolor, or virginica</b>. On the y-axis, we are given the sepal length. Notice that <b>virginica</b> has an <b>outlier</b> towards the bottom of the plot. Therefore, the <b>minimum</b> is not given by the bottom line here; rather, it is provided by this point.\n",
    "\n",
    "<b>Quick Refresher</b>: The measures of center and spread we can determine from a Box Plot are as follows. Let's use Setosa for these examples.\n",
    "\n",
    "<b>Median</b> is the center line inside the box and is 5\n",
    "\n",
    "<b>IQR</b> is space between the first and third quartile which are the edges of the box. They are about 4.8 for the first quartile and 5.2 for the third"
   ]
  },
  {
   "cell_type": "code",
   "execution_count": 9,
   "metadata": {},
   "outputs": [
    {
     "data": {
      "image/png": "[encoded data removed]",
      "text/plain": [
       "<Figure size 576x396 with 1 Axes>"
      ]
     },
     "metadata": {},
     "output_type": "display_data"
    }
   ],
   "source": [
    "import matplotlib.pyplot as plt\n",
    "import numpy as np \n",
    "import seaborn as sns\n",
    "%matplotlib inline\n",
    "plt.style.use('seaborn')\n",
    "\n",
    "iris = sns.load_dataset('iris')\n",
    "sns.boxplot(x=\"species\",y=\"sepal_length\",data=iris)\n",
    "plt.show()"
   ]
  },
  {
   "cell_type": "markdown",
   "metadata": {},
   "source": [
    "#### Q1. Match the appropriate Iris type to the statement(s) that are true for its Sepal Length.\n",
    "\n",
    "<b>SEPAL LENGTH </b>\n",
    "\n",
    "    A. The Largest Range\n",
    "    B. The smallest Interquartile Range\n",
    "    C. Median is approximately 5\n",
    "    D. Third quartile is approximately 6.3\n",
    "    E. Approximately Symmetric \n",
    "    F. The Largest sepals on average \n",
    "    \n",
    "<b> IRIS TYPE </b>\n",
    "    \n",
    "    A. None\n",
    "    B. Versicolor\n",
    "    C. All\n",
    "    D. Virginica\n",
    "    E. Setosa\n",
    "    F. Setosa\n",
    "    G. Virginica\n",
    "       `"
   ]
  },
  {
   "cell_type": "code",
   "execution_count": 10,
   "metadata": {},
   "outputs": [
    {
     "data": {
      "image/png": "[encoded data removed]",
      "text/plain": [
       "<Figure size 576x396 with 1 Axes>"
      ]
     },
     "metadata": {},
     "output_type": "display_data"
    }
   ],
   "source": [
    "import matplotlib.pyplot as plt\n",
    "import numpy as np \n",
    "import seaborn as sns\n",
    "%matplotlib inline\n",
    "plt.style.use('seaborn')\n",
    "\n",
    "iris = sns.load_dataset('iris')\n",
    "sns.boxplot(x=\"species\",y=\"sepal_length\",data=iris)\n",
    "plt.show()"
   ]
  },
  {
   "cell_type": "markdown",
   "metadata": {},
   "source": [
    "#### Q2. Using the same flower data, select all of the below statements that MUST be true.\n",
    "\n",
    "<p> <input type='checkbox'>All setosa flowers have a shorter sepal length than versicolor flowers. </p>\n",
    "<p> <input type='checkbox'> All virginica flowers have larger sepal length than setosa flowers.</p>\n",
    "<p> <input type='checkbox'> More than 75% of the virginica flowers have a larger sepal length than the larget setosa flower.</p>\n",
    "<p> <input type='checkbox'> More than 50% of setosa flowers have larger sepal length than the shortest versicolor flower. </p>\n",
    "<p> <input type='checkbox'> More data was collected on versicolor flowers than on virginica flowers. </p>\n",
    "<p> <input type='checkbox'> More data was collected on setosa than on setosa flowers than on virginica flowers</p>\n"
   ]
  },
  {
   "cell_type": "raw",
   "metadata": {},
   "source": []
  },
  {
   "cell_type": "code",
   "execution_count": 30,
   "metadata": {},
   "outputs": [
    {
     "data": {
      "image/png": "[encoded data removed]",
      "text/plain": [
       "<Figure size 576x288 with 1 Axes>"
      ]
     },
     "metadata": {},
     "output_type": "display_data"
    }
   ],
   "source": [
    "fig = plt.figure(figsize=(8,4))\n",
    "ax = fig.add_axes([0,0,1,1])\n",
    "ax.hist(iris['petal_length'],edgecolor='black',lw=2,bins=13)\n",
    "ax.set_xlabel(\"Petal Length (cm)\")\n",
    "ax.set_ylabel(\"Frequency\")\n",
    "plt.show()"
   ]
  },
  {
   "cell_type": "markdown",
   "metadata": {},
   "source": [
    "#### Q1. What is the name of the above plot ? \n",
    "\n",
    "<p> <input type='radio'> Bar Chart</p>\n",
    "<p> <input type='radio'> Box Plot</p>\n",
    "<p> <input type='radio'> Histogram</p>\n",
    "<p> <input type='radio'> Pie Chart</p>"
   ]
  },
  {
   "cell_type": "markdown",
   "metadata": {},
   "source": [
    "#### Q2. What is the shape of the above distribution?\n",
    "\n",
    "<p> <input type='radio'> Right skewed</p>\n",
    "<p> <input type='radio'> Left skewed</p>\n",
    "<p> <input type='radio'> Symmetric</p>\n",
    "<p> <input type='radio'> Bi-modal</p>"
   ]
  },
  {
   "cell_type": "markdown",
   "metadata": {},
   "source": [
    "### Questions 3 - 5: Shape and Outliers\n",
    "#### Q3. Use the below image to assist with answering the next three questions.\n"
   ]
  },
  {
   "cell_type": "code",
   "execution_count": 35,
   "metadata": {},
   "outputs": [
    {
     "data": {
      "image/png": "[encoded data removed]",
      "text/plain": [
       "<Figure size 576x396 with 1 Axes>"
      ]
     },
     "metadata": {},
     "output_type": "display_data"
    }
   ],
   "source": [
    "sns.boxplot(y=iris['petal_width'],orient='h')\n",
    "plt.show()"
   ]
  },
  {
   "cell_type": "markdown",
   "metadata": {},
   "source": [
    "#### Q3. What is the name of the above plot  ? \n",
    "\n",
    "<p> <input type='radio'> Bar Chart</p>\n",
    "<p> <input type='radio'> Box Plot</p>\n",
    "<p> <input type='radio'> Histogram</p>\n",
    "<p> <input type='radio'> Pie Chart</p>\n"
   ]
  },
  {
   "cell_type": "markdown",
   "metadata": {},
   "source": [
    "#### Q4. What is the shape of the distribution?\n",
    "\n",
    "<p> <input type='radio'> Right skewed</p>\n",
    "<p> <input type='radio'> Left skewed</p>\n",
    "<p> <input type='radio'> Symmetric</p>\n",
    "<p> <input type='radio'>  Bi-modal</p>\n"
   ]
  },
  {
   "cell_type": "markdown",
   "metadata": {},
   "source": [
    "#### Q5. Select the true statement for the box-plot above.\n",
    "<p> <input type='radio'> The mean is less than the median.</p>\n",
    "<p> <input type='radio'> The mean is greater than the median.</p>\n",
    "<p> <input type='radio'> The mean is approximately equal to the median.</p>\n",
    "<p> <input type='radio'> It is impossible to tell the relationship between the mean and median</p>\n",
    "\n"
   ]
  },
  {
   "cell_type": "raw",
   "metadata": {},
   "source": []
  },
  {
   "cell_type": "markdown",
   "metadata": {},
   "source": [
    "### Histograms"
   ]
  },
  {
   "cell_type": "code",
   "execution_count": 59,
   "metadata": {},
   "outputs": [
    {
     "data": {
      "image/png": "[encoded data removed]",
      "text/plain": [
       "<Figure size 576x396 with 1 Axes>"
      ]
     },
     "metadata": {},
     "output_type": "display_data"
    }
   ],
   "source": [
    "data1 = [ np.random.randint(1,500) for var in range(150)]\n",
    "data1 += [ np.random.randint(1,1000) for var in range(100)] + [ np.random.randint(1350,2000) for var in range(30)]\n",
    "plt.hist(data1,edgecolor='black',lw=2,bins=7)\n",
    "plt.title('Histogram1')\n",
    "plt.ylabel('Frequency')\n",
    "plt.show()"
   ]
  },
  {
   "cell_type": "code",
   "execution_count": 65,
   "metadata": {},
   "outputs": [
    {
     "data": {
      "image/png": "[encoded data removed]",
      "text/plain": [
       "<Figure size 576x396 with 1 Axes>"
      ]
     },
     "metadata": {},
     "output_type": "display_data"
    }
   ],
   "source": [
    "data1 = [ np.random.randint(1,5) for var in range(30)]\n",
    "data1 += [ np.random.randint(5,7) for var in range(75)] + [ np.random.randint(7,9) for var in range(10)]\n",
    "plt.hist(data1,edgecolor='black',lw=2,bins=7)\n",
    "plt.title('Histogram1')\n",
    "plt.ylabel('Frequency')\n",
    "plt.show()"
   ]
  },
  {
   "cell_type": "markdown",
   "metadata": {},
   "source": [
    "### Quick Notes\n",
    "\n",
    "Pay attention to the scale of these two graphs. The first is dealing with a lot higher numbers.\n",
    "\n",
    "The median is the middle number and is not effected by outliers.\n",
    "\n",
    "The average factors in all the number so outliers will bring the average towards them.\n",
    "\n",
    "Left Skewed is when the graphs starts with a low frequency and then slopes up. Right Skewed is when the graph starts with a high frequency and slopes down."
   ]
  },
  {
   "cell_type": "markdown",
   "metadata": {},
   "source": [
    "#### Q1. correctly match the histograms to the statements that are true about each.\n",
    "\n",
    "<b> STATEMENT </b>\n",
    "    \n",
    "    A. Mean is greater than the median.\n",
    "    B. Data has higher Variance \n",
    "    C. The range is approximately 5.5.\n",
    "    D. Distribution is left-Skewed.\n",
    "    E. The Mean is approximately equal to the median. \n",
    "    \n",
    "<b>Values </b>\n",
    "\n",
    "    A. Impossible to tell.\n",
    "    B. Both\n",
    "    C. Histogram1\n",
    "    D. Histogram2\n",
    "    E. Neither"
   ]
  },
  {
   "cell_type": "raw",
   "metadata": {},
   "source": []
  },
  {
   "cell_type": "markdown",
   "metadata": {},
   "source": [
    "#### Descriptive Statistics\n",
    "    Descriptive statistics is about describing our collected data.\n",
    "\n",
    "#### Inferential Statistics\n",
    "    Inferential Statistics is about using our collected data to draw conclusions to a larger population.\n",
    "\n",
    "We looked at specific examples that allowed us to identify the\n",
    "\n",
    "    1.Population - our entire group of interest.\n",
    "    2.Parameter - numeric summary about a population\n",
    "    3.Sample - subset of the population\n",
    "    4.Statistic numeric summary about a sample"
   ]
  },
  {
   "cell_type": "markdown",
   "metadata": {},
   "source": [
    "#### Q1. Identify the population, parameter, sample, and statistic for the below scenario:\n",
    "\n",
    "Consider we are interested in the average number of hours slept by all Grras students (100,000 students). I send an email to all Grras students, but I only receive 5,000 response emails. The average amount of sleep of those that responded was 6.8 hours of sleep.\n",
    "\n",
    "<b>TERM</b>\n",
    "    \n",
    "    A. Population\n",
    "    B. Parameter\n",
    "    C. Sample \n",
    "    D. Statistic\n",
    "    \n",
    "<b> DESCRIPTION </b>\n",
    "\n",
    "    A. We cannot know for sure. \n",
    "    B. 6.8 hours of sleep \n",
    "    C. 5,000 Grras Students\n",
    "    D. All Grras Students\n",
    "   "
   ]
  },
  {
   "cell_type": "markdown",
   "metadata": {},
   "source": [
    "#### Q2. Identify the population(s), parameter(s), sample(s), and statistic(s) for the below scenario:\n",
    "\n",
    "Consider we own a bagel shop. We know that the average diameter of all of our bagels is 5.5 inches. A competitor moves right next door to us! We are interested in if they make larger bagels than us. We obtain 100 of their bagels, and we find they have an average diameter of 6 inches.\n",
    "\n",
    "\n",
    "<b>TERM</b>\n",
    "\n",
    "    A. Parameter\n",
    "    B. Statistic\n",
    "    C. Population\n",
    "    D. Population\n",
    "    E. Sample\n",
    "    F: None\n",
    "\n",
    "<b>DESCRIPTION</b>\n",
    "\n",
    "    A. 6 inches \n",
    "    B. 5.5 inches\n",
    "    C. The 100 bagels from the competitor's bagel shop.\n",
    "    D. All the bagels at our competitor's shop.\n",
    "    E. All the bagels at our bagel shop."
   ]
  },
  {
   "cell_type": "markdown",
   "metadata": {},
   "source": [
    "#### Q3. For the below, match the term to the correct description.\n",
    "\n",
    "<b>TERM</b>\n",
    "    \n",
    "    A. None\n",
    "    B. Statistics\n",
    "    C. Population\n",
    "    D. Parameter\n",
    "    E. Inference\n",
    "    F. Sample\n",
    "    G. Population\n",
    "    \n",
    "<b>DESCRIPTION</b>\n",
    "\n",
    "    A. A numeric summary of a sample\n",
    "    B. A numeric Summary of a population\n",
    "    C. Drawing conclusions regrading a population using information form a population.\n",
    "    D. Subset of a population\n",
    "    E. Our entire group of interest\n",
    "    F. Frequently we do not know this value, so we must try and estimate"
   ]
  },
  {
   "cell_type": "code",
   "execution_count": null,
   "metadata": {},
   "outputs": [],
   "source": []
  },
  {
   "cell_type": "markdown",
   "metadata": {},
   "source": [
    "#### Descriptive vs. Inferential Summary\n",
    "\n",
    "In this section, we learned about how Inferential Statistics differs from \n",
    "\n",
    "#### Descriptive Statistics.\n",
    "\n",
    "Descriptive statistics is about describing our collected data using the measures discussed throughout this lesson: measures of center, measures of spread, shape of our distribution, and outliers. We can also use plots of our data to gain a better understanding.\n",
    "\n",
    "#### Inferential Statistics\n",
    "\n",
    "Inferential Statistics is about using our collected data to draw conclusions to a larger population. Performing inferential statistics well requires that we take a sample that accurately represents our population of interest.\n",
    "\n",
    "A common way to collect data is via a survey. However, surveys may be extremely biased depending on the types of questions that are asked, and the way the questions are asked. This is a topic you should think about when tackling the first project.\n",
    "\n",
    "##### Looking Ahead\n",
    "\n",
    "Though we will not be diving deep into inferential statistics within this course, you are now aware of the difference between these two avenues of statistics. If you have ever conducted a hypothesis test or built a confidence interval, you have performed inferential statistics. \n",
    "\n",
    "The way we perform inferential statistics is changing as technology evolves. Many career paths involving Machine Learning and Artificial Intelligence are aimed at using collected data to draw conclusions about entire populations at an individual level. It is an exciting time to be a part of this space, and you are now well on your way to joining the other practitioners!\n"
   ]
  }
 ],
 "metadata": {
  "kernelspec": {
   "display_name": "Python 3",
   "language": "python",
   "name": "python3"
  },
  "language_info": {
   "codemirror_mode": {
    "name": "ipython",
    "version": 3
   },
   "file_extension": ".py",
   "mimetype": "text/x-python",
   "name": "python",
   "nbconvert_exporter": "python",
   "pygments_lexer": "ipython3",
   "version": "3.7.3"
  }
 },
 "nbformat": 4,
 "nbformat_minor": 2
}
