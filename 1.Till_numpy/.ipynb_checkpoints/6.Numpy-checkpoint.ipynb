{
 "cells": [
  {
   "cell_type": "markdown",
   "metadata": {},
   "source": [
    "### Descriptive Stats"
   ]
  },
  {
   "cell_type": "markdown",
   "metadata": {},
   "source": [
    "`1. Central Tendency`\n",
    "\n",
    "    1. Mean        - Average of all values, sensitive to outliers\n",
    "    2. Median      - Mid point of data, 50 % population below and 50 % population above the median, not sensitive to outliers\n",
    "    3. Mode        - Most Frequent Value in Dataset, There can one, more than one, or no mode at all possible for any given data"
   ]
  },
  {
   "cell_type": "markdown",
   "metadata": {},
   "source": [
    "`2.Spredness of Data`\n",
    "\n",
    "    1. Range\n",
    "    2. Quantiles\n",
    "    3. Variance\n",
    "    4. Standard Deviation"
   ]
  },
  {
   "cell_type": "code",
   "execution_count": 1,
   "metadata": {},
   "outputs": [],
   "source": [
    "import numpy as np\n",
    "import matplotlib.pyplot as plt"
   ]
  },
  {
   "cell_type": "code",
   "execution_count": 3,
   "metadata": {},
   "outputs": [
    {
     "data": {
      "text/plain": [
       "array([[18, 13, 22, 19, 19],\n",
       "       [21, 15, 27, 23, 22],\n",
       "       [26, 14, 20, 29, 29],\n",
       "       [11, 28, 24, 20, 29],\n",
       "       [10, 10, 14, 12, 12],\n",
       "       [22, 27, 10, 25, 11]])"
      ]
     },
     "execution_count": 3,
     "metadata": {},
     "output_type": "execute_result"
    }
   ],
   "source": [
    "np.random.randint(10, 30, 30).reshape(6, 5) # uniform"
   ]
  },
  {
   "cell_type": "code",
   "execution_count": 11,
   "metadata": {},
   "outputs": [
    {
     "data": {
      "image/png": "[encoded data removed]",
      "text/plain": [
       "<Figure size 432x288 with 1 Axes>"
      ]
     },
     "metadata": {
      "needs_background": "light"
     },
     "output_type": "display_data"
    }
   ],
   "source": [
    "d = np.random.random(1000) # uniform\n",
    "\n",
    "plt.hist(d, bins=30)\n",
    "plt.show()"
   ]
  },
  {
   "cell_type": "markdown",
   "metadata": {},
   "source": [
    "#### np.random.rand or np.random.random or np.random.randn"
   ]
  },
  {
   "cell_type": "code",
   "execution_count": 14,
   "metadata": {},
   "outputs": [
    {
     "data": {
      "text/plain": [
       "array([[0.54049838, 0.85573984, 0.59561912, 0.48799269],\n",
       "       [0.70796333, 0.4242885 , 0.0628582 , 0.84624041],\n",
       "       [0.15182793, 0.71682588, 0.72180728, 0.63385043]])"
      ]
     },
     "execution_count": 14,
     "metadata": {},
     "output_type": "execute_result"
    }
   ],
   "source": [
    "np.random.rand(3, 4) # random float values between 0-1, uniform distribution"
   ]
  },
  {
   "cell_type": "code",
   "execution_count": 15,
   "metadata": {},
   "outputs": [
    {
     "data": {
      "text/plain": [
       "array([[-0.18493728,  0.22946221,  0.32460085,  0.66025929],\n",
       "       [-0.54291233,  0.45149502, -0.0583946 ,  0.38895527],\n",
       "       [ 0.63474203, -0.02247392, -0.68560697, -0.86827286]])"
      ]
     },
     "execution_count": 15,
     "metadata": {},
     "output_type": "execute_result"
    }
   ],
   "source": [
    "np.random.randn(3,4) # random float values , mean=0, std=1, normal distribution"
   ]
  },
  {
   "cell_type": "code",
   "execution_count": 33,
   "metadata": {},
   "outputs": [
    {
     "data": {
      "image/png": "[encoded data removed]",
      "text/plain": [
       "<Figure size 432x288 with 1 Axes>"
      ]
     },
     "metadata": {
      "needs_background": "light"
     },
     "output_type": "display_data"
    }
   ],
   "source": [
    "d = np.random.rand(1000)# uniform, 0, 1\n",
    "plt.hist(d, ec='k', bins=30) #ec=edge color\n",
    "plt.xticks(np.arange(0, 1.05, .05), rotation=45)\n",
    "plt.show()"
   ]
  },
  {
   "cell_type": "markdown",
   "metadata": {},
   "source": [
    "    min\n",
    "\n",
    "    max"
   ]
  },
  {
   "cell_type": "markdown",
   "metadata": {},
   "source": [
    "### Range\n",
    "\n",
    "    max - min"
   ]
  },
  {
   "cell_type": "markdown",
   "metadata": {},
   "source": [
    "### Uniform Distribution "
   ]
  },
  {
   "cell_type": "code",
   "execution_count": 36,
   "metadata": {},
   "outputs": [
    {
     "data": {
      "image/png": "[encoded data removed]",
      "text/plain": [
       "<Figure size 432x288 with 1 Axes>"
      ]
     },
     "metadata": {
      "needs_background": "light"
     },
     "output_type": "display_data"
    }
   ],
   "source": [
    "d = np.random.rand(1000) * 50# uniform, 0, 1\n",
    "plt.hist(d, ec='k', bins=30) #ec=edge color\n",
    "plt.show()"
   ]
  },
  {
   "cell_type": "markdown",
   "metadata": {},
   "source": [
    "### Standard Normal Distribution\n",
    "    \n",
    "    mean = 0, std = 1"
   ]
  },
  {
   "cell_type": "markdown",
   "metadata": {},
   "source": [
    "    majority of values ? \n",
    "\n",
    "    minority of values ?"
   ]
  },
  {
   "cell_type": "code",
   "execution_count": 42,
   "metadata": {},
   "outputs": [
    {
     "data": {
      "image/png": "[encoded data removed]",
      "text/plain": [
       "<Figure size 432x288 with 1 Axes>"
      ]
     },
     "metadata": {
      "needs_background": "light"
     },
     "output_type": "display_data"
    }
   ],
   "source": [
    "d = np.random.randn(1000)\n",
    "plt.hist(d, ec='gold', histtype='step', bins=30)\n",
    "plt.show()"
   ]
  },
  {
   "cell_type": "markdown",
   "metadata": {},
   "source": [
    "#### np.random.normal(mean, std, size)    normal distribution\n",
    "#### np.random.uniform(low, high, size)    uniform distribution"
   ]
  },
  {
   "cell_type": "code",
   "execution_count": 47,
   "metadata": {},
   "outputs": [
    {
     "data": {
      "image/png": "[encoded data removed]",
      "text/plain": [
       "<Figure size 432x288 with 1 Axes>"
      ]
     },
     "metadata": {
      "needs_background": "light"
     },
     "output_type": "display_data"
    }
   ],
   "source": [
    "d1 = np.random.normal(0, 1, 1000)\n",
    "d2 = np.random.uniform(-3, 3, 1000)\n",
    "plt.hist(d1, ec='gold',bins=30, label='Normal', lw=3)\n",
    "plt.hist(d2, ec='salmon', bins=30, label='Uniform', lw=2)\n",
    "plt.legend()\n",
    "plt.show()"
   ]
  },
  {
   "cell_type": "markdown",
   "metadata": {},
   "source": [
    "    65% mean +- std\n",
    "\n",
    "    95% mean +- 2std\n",
    "\n",
    "    99.99% mean +- 3std\n",
    "\n",
    "    0.01 % outliers"
   ]
  },
  {
   "cell_type": "code",
   "execution_count": 46,
   "metadata": {},
   "outputs": [
    {
     "data": {
      "image/png": "[encoded data removed]",
      "text/plain": [
       "<Figure size 432x288 with 1 Axes>"
      ]
     },
     "metadata": {
      "needs_background": "light"
     },
     "output_type": "display_data"
    }
   ],
   "source": [
    "d1 = np.random.normal(0, 1, 1000) \n",
    "d2 = np.random.uniform(-3, 3, 1000)\n",
    "plt.hist(d1, ec='gold', histtype='step', bins=30, label='Normal', lw=3)\n",
    "plt.hist(d2, ec='salmon', histtype='step', bins=30, label='Uniform', lw=2)\n",
    "plt.legend()\n",
    "plt.show()"
   ]
  },
  {
   "cell_type": "code",
   "execution_count": 50,
   "metadata": {},
   "outputs": [
    {
     "data": {
      "text/plain": [
       "-0.0017160441446206992"
      ]
     },
     "execution_count": 50,
     "metadata": {},
     "output_type": "execute_result"
    }
   ],
   "source": [
    "np.median(d1)"
   ]
  },
  {
   "cell_type": "code",
   "execution_count": 51,
   "metadata": {},
   "outputs": [
    {
     "name": "stdout",
     "output_type": "stream",
     "text": [
      "[-0.62922455 -0.00171604  0.68124346]\n"
     ]
    }
   ],
   "source": [
    "quarters = np.quantile(d1, [0.25, 0.5, 0.75])\n",
    "print(quarters)"
   ]
  },
  {
   "cell_type": "code",
   "execution_count": 52,
   "metadata": {},
   "outputs": [
    {
     "name": "stdout",
     "output_type": "stream",
     "text": [
      "1.3104680059970828\n"
     ]
    }
   ],
   "source": [
    "IQR = quarters[2] - quarters[0]\n",
    "print(IQR)"
   ]
  },
  {
   "cell_type": "code",
   "execution_count": 53,
   "metadata": {},
   "outputs": [],
   "source": [
    "from scipy import stats"
   ]
  },
  {
   "cell_type": "code",
   "execution_count": 55,
   "metadata": {},
   "outputs": [
    {
     "name": "stdout",
     "output_type": "stream",
     "text": [
      "1.3104680059970828\n"
     ]
    }
   ],
   "source": [
    "print(stats.iqr(d1))"
   ]
  },
  {
   "cell_type": "code",
   "execution_count": 58,
   "metadata": {},
   "outputs": [
    {
     "data": {
      "image/png": "[encoded data removed]",
      "text/plain": [
       "<Figure size 432x288 with 1 Axes>"
      ]
     },
     "metadata": {
      "needs_background": "light"
     },
     "output_type": "display_data"
    }
   ],
   "source": [
    "plt.boxplot(d1)\n",
    "plt.show()"
   ]
  },
  {
   "cell_type": "markdown",
   "metadata": {},
   "source": [
    "#### Variance \n",
    "\n",
    "$ \\sigma^2 = \\frac {1} {N} \\sum \\limits_{i=1}^N {(x_i - \\bar x)}^2$ "
   ]
  },
  {
   "cell_type": "code",
   "execution_count": 59,
   "metadata": {},
   "outputs": [],
   "source": [
    "data = np.random.normal(140, 20, 1000)"
   ]
  },
  {
   "cell_type": "code",
   "execution_count": 63,
   "metadata": {},
   "outputs": [],
   "source": [
    "var = np.var(data)"
   ]
  },
  {
   "cell_type": "code",
   "execution_count": 64,
   "metadata": {},
   "outputs": [
    {
     "name": "stdout",
     "output_type": "stream",
     "text": [
      "Mean:  140.05482680910694\n",
      "Mean - var:  -254.98394662835477\n",
      "Mean + var:  535.0936002465687\n"
     ]
    }
   ],
   "source": [
    "mu = np.mean(data)\n",
    "print(\"Mean: \", mu)\n",
    "print(\"Mean - var: \", mu-var)\n",
    "print(\"Mean + var: \", mu+var)"
   ]
  },
  {
   "cell_type": "code",
   "execution_count": 66,
   "metadata": {},
   "outputs": [
    {
     "data": {
      "image/png": "[encoded data removed]",
      "text/plain": [
       "<Figure size 432x288 with 1 Axes>"
      ]
     },
     "metadata": {
      "needs_background": "light"
     },
     "output_type": "display_data"
    }
   ],
   "source": [
    "plt.hist(data, bins=50)\n",
    "plt.vlines(mu-var, 0, 60, color='k')\n",
    "plt.vlines(mu+var, 0, 60, color='k')\n",
    "plt.show()"
   ]
  },
  {
   "cell_type": "markdown",
   "metadata": {},
   "source": [
    "#### Standard Deviation\n",
    "\n",
    "$\\sigma = \\sqrt {\\text {variance} }$\n",
    "\n",
    "$\\sigma = \\sqrt { {\\sigma^2_{\\text{var}}} }$\n",
    "\n",
    "$\\sigma = \\sqrt { \\frac {1} {N} \\sum\\limits_{i=1}^N  {(x_i-\\bar x)}^2 } $"
   ]
  },
  {
   "cell_type": "code",
   "execution_count": 67,
   "metadata": {},
   "outputs": [],
   "source": [
    "std = np.std(data)"
   ]
  },
  {
   "cell_type": "code",
   "execution_count": 69,
   "metadata": {},
   "outputs": [
    {
     "name": "stdout",
     "output_type": "stream",
     "text": [
      "Mean:  140.05482680910694\n",
      "std:  19.87558234209659\n"
     ]
    }
   ],
   "source": [
    "print(\"Mean: \", mu)\n",
    "print(\"std: \", std) # normal distribution\n",
    "# 65 % data -> mu+-std"
   ]
  },
  {
   "cell_type": "code",
   "execution_count": 70,
   "metadata": {},
   "outputs": [
    {
     "name": "stdout",
     "output_type": "stream",
     "text": [
      "10.5 µs ± 931 ns per loop (mean ± std. dev. of 7 runs, 100000 loops each)\n"
     ]
    }
   ],
   "source": [
    "%%timeit\n",
    "np.mean(data)"
   ]
  },
  {
   "cell_type": "code",
   "execution_count": 73,
   "metadata": {},
   "outputs": [
    {
     "data": {
      "text/plain": [
       "95.0"
      ]
     },
     "execution_count": 73,
     "metadata": {},
     "output_type": "execute_result"
    }
   ],
   "source": [
    "68 + 2*13.5"
   ]
  },
  {
   "cell_type": "code",
   "execution_count": 76,
   "metadata": {},
   "outputs": [
    {
     "data": {
      "image/png": "[encoded data removed]",
      "text/plain": [
       "<Figure size 432x288 with 1 Axes>"
      ]
     },
     "metadata": {
      "needs_background": "light"
     },
     "output_type": "display_data"
    }
   ],
   "source": [
    "plt.hist(data, bins=50)\n",
    "plt.vlines(mu, 0, 60, color='k') # mean\n",
    "\n",
    "plt.vlines(mu-std, 0, 60, color='r') # 68 %\n",
    "plt.vlines(mu+std, 0, 60, color='r') # 68 %\n",
    "\n",
    "plt.vlines(mu-2*std, 0, 60, color='m') # 95%\n",
    "plt.vlines(mu+2*std, 0, 60, color='m') # 95%\n",
    "\n",
    "plt.vlines(mu-3*std, 0, 60, color='c') # 99%\n",
    "plt.vlines(mu+3*std, 0, 60, color='c') # 99%\n",
    "\n",
    "plt.show()"
   ]
  },
  {
   "cell_type": "markdown",
   "metadata": {},
   "source": [
    "### Data Analysis\n",
    "\n",
    "    creating a mental picture"
   ]
  },
  {
   "cell_type": "code",
   "execution_count": 79,
   "metadata": {},
   "outputs": [
    {
     "name": "stdout",
     "output_type": "stream",
     "text": [
      "[138.06723368 183.50970224 131.13257038 117.55276444 124.89019426\n",
      " 108.36577275 128.34466571 128.60329772 128.83564044 112.44687472]\n",
      "Min:  70.47263489686459\n",
      "Q1:  126.41580817490933\n",
      "Q2:  140.82223120018222\n",
      "Q3:  154.11859760885807\n",
      "Max:  201.24202289492058\n",
      "mean:  140.05482680910694\n",
      "std:  19.87558234209659\n",
      "\n"
     ]
    }
   ],
   "source": [
    "print(data[:10])\n",
    "print(\"Min: \", data.min())\n",
    "print(\"Q1: \", np.quantile(data, [0.25])[0])\n",
    "print(\"Q2: \", np.median(data))\n",
    "print(\"Q3: \", np.quantile(data, [0.75])[0])\n",
    "print(\"Max: \", np.max(data))\n",
    "print(\"mean: \", np.mean(data))\n",
    "print(\"std: \", np.std(data))\n",
    "print(\"\")"
   ]
  },
  {
   "cell_type": "markdown",
   "metadata": {},
   "source": [
    "##### Doubt ?"
   ]
  },
  {
   "cell_type": "markdown",
   "metadata": {},
   "source": [
    "`Descrptive Stats`\n",
    "\n",
    "    Central Tendency - mean, median, mode\n",
    "    \n",
    "    Spreadness - Range, Quantiles, Variance, Standard Deviation, IQR\n",
    "    \n",
    "    Outliers  - \n",
    "                value < (Q1-1.5IQR) or value > (Q3+1.5IQR)\n",
    "                \n",
    "                value < mean-2*std or value > mean + 2*std\n",
    "    \n",
    "    Shape -> normal, uniform\n",
    "        \n",
    "             uniform - \n",
    "                     all points are equal \n",
    "    \n",
    "             Normal -\n",
    "             \n",
    "                 Standard -> mean = 0, std = 1\n",
    "                             \n",
    "                 mean +- std   -> 68 %\n",
    "                 mean +- 2*std -> 95 %\n",
    "                 mean +- 3*std -> 99%"
   ]
  },
  {
   "cell_type": "code",
   "execution_count": null,
   "metadata": {},
   "outputs": [],
   "source": []
  }
 ],
 "metadata": {
  "kernelspec": {
   "display_name": "Python 3",
   "language": "python",
   "name": "python3"
  },
  "language_info": {
   "codemirror_mode": {
    "name": "ipython",
    "version": 3
   },
   "file_extension": ".py",
   "mimetype": "text/x-python",
   "name": "python",
   "nbconvert_exporter": "python",
   "pygments_lexer": "ipython3",
   "version": "3.8.3"
  }
 },
 "nbformat": 4,
 "nbformat_minor": 4
}
