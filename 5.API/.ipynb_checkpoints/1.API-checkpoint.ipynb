{
 "cells": [
  {
   "cell_type": "markdown",
   "metadata": {},
   "source": [
    "## API \n",
    "\n",
    "    Application Programming Interface "
   ]
  },
  {
   "cell_type": "markdown",
   "metadata": {},
   "source": [
    "<h1 style='color:red'> What is an API ?</h1>"
   ]
  },
  {
   "cell_type": "code",
   "execution_count": null,
   "metadata": {},
   "outputs": [],
   "source": []
  },
  {
   "cell_type": "code",
   "execution_count": 1,
   "metadata": {},
   "outputs": [],
   "source": [
    "import urllib"
   ]
  },
  {
   "cell_type": "code",
   "execution_count": 2,
   "metadata": {},
   "outputs": [],
   "source": [
    "import requests"
   ]
  },
  {
   "cell_type": "code",
   "execution_count": 4,
   "metadata": {},
   "outputs": [
    {
     "name": "stdout",
     "output_type": "stream",
     "text": [
      "Requirement already satisfied: requests in c:\\programdata\\anaconda3\\lib\\site-packages (2.24.0)\n",
      "Collecting requests\n",
      "  Using cached requests-2.25.1-py2.py3-none-any.whl (61 kB)\n",
      "Requirement already satisfied: urllib3<1.27,>=1.21.1 in c:\\programdata\\anaconda3\\lib\\site-packages (from requests) (1.25.9)\n",
      "Requirement already satisfied: certifi>=2017.4.17 in c:\\programdata\\anaconda3\\lib\\site-packages (from requests) (2020.12.5)\n",
      "Requirement already satisfied: idna<3,>=2.5 in c:\\programdata\\anaconda3\\lib\\site-packages (from requests) (2.10)\n",
      "Requirement already satisfied: chardet<5,>=3.0.2 in c:\\programdata\\anaconda3\\lib\\site-packages (from requests) (3.0.4)\n",
      "Installing collected packages: requests\n",
      "  Attempting uninstall: requests\n",
      "    Found existing installation: requests 2.24.0\n",
      "    Uninstalling requests-2.24.0:\n",
      "      Successfully uninstalled requests-2.24.0\n",
      "Successfully installed requests-2.25.1\n"
     ]
    }
   ],
   "source": [
    "!python -m pip install requests --upgrade"
   ]
  },
  {
   "cell_type": "code",
   "execution_count": 5,
   "metadata": {},
   "outputs": [
    {
     "data": {
      "text/plain": [
       "'2.24.0'"
      ]
     },
     "execution_count": 5,
     "metadata": {},
     "output_type": "execute_result"
    }
   ],
   "source": [
    "requests.__version__"
   ]
  },
  {
   "cell_type": "code",
   "execution_count": 6,
   "metadata": {},
   "outputs": [
    {
     "name": "stdout",
     "output_type": "stream",
     "text": [
      "2.25.1\n"
     ]
    }
   ],
   "source": [
    "!python -c \"import requests;print(requests.__version__)\""
   ]
  },
  {
   "cell_type": "code",
   "execution_count": 7,
   "metadata": {},
   "outputs": [
    {
     "name": "stderr",
     "output_type": "stream",
     "text": [
      "WARNING: Could not generate requirement for distribution -umpy 1.18.5 (c:\\programdata\\anaconda3\\lib\\site-packages): Parse error at \"'-umpy==1'\": Expected W:(abcd...)\n",
      "WARNING: Could not generate requirement for distribution -ip 20.3.1 (c:\\programdata\\anaconda3\\lib\\site-packages): Parse error at \"'-ip==20.'\": Expected W:(abcd...)\n"
     ]
    }
   ],
   "source": [
    "!pip freeze > requirement.txt"
   ]
  },
  {
   "cell_type": "code",
   "execution_count": 9,
   "metadata": {},
   "outputs": [
    {
     "name": "stdout",
     "output_type": "stream",
     "text": [
      "absl-py==0.12.0\n",
      "adal==1.2.5\n",
      "alabaster==0.7.12\n",
      "altgraph==0.17\n",
      "anaconda-client==1.7.2\n",
      "anaconda-navigator==1.9.12\n",
      "anaconda-project==0.8.3\n",
      "aniso8601==8.0.0\n",
      "appdirs==1.4.4\n",
      "applicationinsights==0.11.9\n"
     ]
    }
   ],
   "source": [
    "!head requirement.txt"
   ]
  },
  {
   "cell_type": "code",
   "execution_count": 10,
   "metadata": {},
   "outputs": [
    {
     "data": {
      "text/plain": [
       "<module 'requests' from 'C:\\\\ProgramData\\\\Anaconda3\\\\lib\\\\site-packages\\\\requests\\\\__init__.py'>"
      ]
     },
     "execution_count": 10,
     "metadata": {},
     "output_type": "execute_result"
    }
   ],
   "source": [
    "requests"
   ]
  },
  {
   "cell_type": "markdown",
   "metadata": {},
   "source": [
    "    url = \"https://grras.com\"\n",
    "    get request to grras server \n",
    "    html response back to browers\n",
    "    compile html css js code and show output on browser\n"
   ]
  },
  {
   "cell_type": "code",
   "execution_count": 11,
   "metadata": {},
   "outputs": [],
   "source": [
    "url = 'https://grras.com'\n",
    "response = requests.get(url)\n"
   ]
  },
  {
   "cell_type": "code",
   "execution_count": 12,
   "metadata": {},
   "outputs": [
    {
     "name": "stdout",
     "output_type": "stream",
     "text": [
      "<Response [200]>\n"
     ]
    }
   ],
   "source": [
    "print(response)"
   ]
  },
  {
   "cell_type": "markdown",
   "metadata": {},
   "source": [
    "##### HTTP Methods and Response Code\n",
    "\n",
    "    2xx - status ok\n",
    "    \n",
    "    1xx - Information\n",
    "    \n",
    "    3xx - Redirection\n",
    "    \n",
    "    4xx - Client Side Error -> (404 - Page not Found, 413 - Access denied)\n",
    "    \n",
    "    5xx - Server Side Errors"
   ]
  },
  {
   "cell_type": "code",
   "execution_count": 13,
   "metadata": {},
   "outputs": [
    {
     "name": "stdout",
     "output_type": "stream",
     "text": [
      "200\n"
     ]
    }
   ],
   "source": [
    "print(response.status_code) # content type ? "
   ]
  },
  {
   "cell_type": "code",
   "execution_count": 15,
   "metadata": {},
   "outputs": [
    {
     "name": "stdout",
     "output_type": "stream",
     "text": [
      "text/html; charset=UTF-8\n"
     ]
    }
   ],
   "source": [
    "print(response.headers['Content-Type'])"
   ]
  },
  {
   "cell_type": "code",
   "execution_count": 16,
   "metadata": {},
   "outputs": [],
   "source": [
    "content = response.content # bytes"
   ]
  },
  {
   "cell_type": "code",
   "execution_count": 17,
   "metadata": {},
   "outputs": [
    {
     "name": "stdout",
     "output_type": "stream",
     "text": [
      "<class 'bytes'>\n"
     ]
    }
   ],
   "source": [
    "print(type(content))"
   ]
  },
  {
   "cell_type": "code",
   "execution_count": 20,
   "metadata": {},
   "outputs": [],
   "source": [
    "string = content.decode('utf-8')"
   ]
  },
  {
   "cell_type": "code",
   "execution_count": 21,
   "metadata": {},
   "outputs": [],
   "source": [
    "content = response.text"
   ]
  },
  {
   "cell_type": "code",
   "execution_count": 23,
   "metadata": {},
   "outputs": [
    {
     "name": "stdout",
     "output_type": "stream",
     "text": [
      "<!doctype html>\n",
      "<html class=\"no-js\" lang=\"\">\n",
      "    <head>\n",
      "        <meta charset=\"utf-8\">\n",
      "        <meta http-equiv=\"x-ua-compatible\" content=\"ie=edge\"> \n",
      "      \t<title>AWS Cloud, CCNA, RedHat Linux, Data Science Certification & Training Course - GRRAS</title>\n",
      "      \t      \t<meta name=\"keywords\" content=\"CCNA training in Jaipur, CCNA training in Ahmedabad, RedHat Certification in Jaipur, RedHat Certification in Indore, RedHat Certification in Ahmedabad, AWS Cloud Certification in Jaipur, AWS Cloud Certification in Indore, AWS Cloud Certification in Ahmedabad\"> \n",
      "        <meta name=\"description\" content=\"<p>Grras Solutions is one of the best CCNA, Red Hat Linux ( RHCSA & RHCE ) and AWS cloud Certification and training  course provider in Jaipur, Ahmedabad, Indore and Delhi,.100% Job Placement.</p>\r\n",
      "\">\n",
      "        <link rel=\"canonical\" href=\"https://grras.com/\" />\n",
      "        <meta name=\"classification\" content=\"AWS Cloud, CCNA, RedHat Linux, Data Science Certification &amp; Training Course - GRRAS\">\n",
      "\n"
     ]
    }
   ],
   "source": [
    "print(content[:1000]) # SEO"
   ]
  },
  {
   "cell_type": "markdown",
   "metadata": {},
   "source": [
    "### API"
   ]
  },
  {
   "cell_type": "markdown",
   "metadata": {},
   "source": [
    "    ENDPOINT ->\n",
    "    \n",
    "                   METHOD\n",
    "                       \n",
    "                       DOMAIN_NAME/Query/Data"
   ]
  },
  {
   "cell_type": "markdown",
   "metadata": {},
   "source": [
    "    facebook\n",
    "    twitter\n",
    "    google\n",
    "    ibm/azure"
   ]
  },
  {
   "cell_type": "code",
   "execution_count": 24,
   "metadata": {},
   "outputs": [],
   "source": [
    "api_key = \"1cc17b22fbc263fa5bb269cef60813d6\""
   ]
  },
  {
   "cell_type": "code",
   "execution_count": 25,
   "metadata": {},
   "outputs": [],
   "source": [
    "end_point = \"https://api.openweathermap.org/data/2.5/weather?\"\n",
    "\n",
    "query_parameter = {\n",
    "    'q': 'jaipur',\n",
    "    'appid': api_key,\n",
    "    'units': 'metric'\n",
    "}"
   ]
  },
  {
   "cell_type": "code",
   "execution_count": 28,
   "metadata": {},
   "outputs": [],
   "source": [
    "response = requests.get(end_point, params=query_parameter)"
   ]
  },
  {
   "cell_type": "code",
   "execution_count": 29,
   "metadata": {},
   "outputs": [
    {
     "data": {
      "text/plain": [
       "'https://api.openweathermap.org/data/2.5/weather?q=jaipur&appid=1cc17b22fbc263fa5bb269cef60813d6&units=metric'"
      ]
     },
     "execution_count": 29,
     "metadata": {},
     "output_type": "execute_result"
    }
   ],
   "source": [
    "response.url"
   ]
  },
  {
   "cell_type": "code",
   "execution_count": 30,
   "metadata": {},
   "outputs": [
    {
     "data": {
      "text/plain": [
       "200"
      ]
     },
     "execution_count": 30,
     "metadata": {},
     "output_type": "execute_result"
    }
   ],
   "source": [
    "response.status_code"
   ]
  },
  {
   "cell_type": "code",
   "execution_count": 31,
   "metadata": {},
   "outputs": [
    {
     "data": {
      "text/plain": [
       "'application/json; charset=utf-8'"
      ]
     },
     "execution_count": 31,
     "metadata": {},
     "output_type": "execute_result"
    }
   ],
   "source": [
    "response.headers['Content-type']"
   ]
  },
  {
   "cell_type": "code",
   "execution_count": 32,
   "metadata": {},
   "outputs": [],
   "source": [
    "data = response.json()"
   ]
  },
  {
   "cell_type": "code",
   "execution_count": 34,
   "metadata": {},
   "outputs": [
    {
     "name": "stdout",
     "output_type": "stream",
     "text": [
      "<class 'dict'>\n"
     ]
    }
   ],
   "source": [
    "print(type(data))"
   ]
  },
  {
   "cell_type": "code",
   "execution_count": 35,
   "metadata": {},
   "outputs": [],
   "source": [
    "from pprint import pprint"
   ]
  },
  {
   "cell_type": "code",
   "execution_count": 36,
   "metadata": {},
   "outputs": [
    {
     "name": "stdout",
     "output_type": "stream",
     "text": [
      "{'base': 'stations',\n",
      " 'clouds': {'all': 40},\n",
      " 'cod': 200,\n",
      " 'coord': {'lat': 26.9167, 'lon': 75.8167},\n",
      " 'dt': 1622646606,\n",
      " 'id': 1269515,\n",
      " 'main': {'feels_like': 28.11,\n",
      "          'humidity': 51,\n",
      "          'pressure': 1005,\n",
      "          'temp': 27.62,\n",
      "          'temp_max': 27.62,\n",
      "          'temp_min': 27.62},\n",
      " 'name': 'Jaipur',\n",
      " 'sys': {'country': 'IN',\n",
      "         'id': 9170,\n",
      "         'sunrise': 1622592178,\n",
      "         'sunset': 1622641608,\n",
      "         'type': 1},\n",
      " 'timezone': 19800,\n",
      " 'visibility': 3000,\n",
      " 'weather': [{'description': 'haze', 'icon': '50n', 'id': 721, 'main': 'Haze'}],\n",
      " 'wind': {'deg': 237, 'gust': 12.69, 'speed': 1.89}}\n"
     ]
    }
   ],
   "source": [
    "pprint(data)"
   ]
  },
  {
   "cell_type": "code",
   "execution_count": null,
   "metadata": {},
   "outputs": [],
   "source": [
    "response.reason"
   ]
  },
  {
   "cell_type": "code",
   "execution_count": 37,
   "metadata": {},
   "outputs": [],
   "source": [
    "def get_weather(city_name):\n",
    "    end_point = \"https://api.openweathermap.org/data/2.5/weather?\"\n",
    "\n",
    "    query_parameter = {\n",
    "        'q': city_name,\n",
    "        'appid': api_key,\n",
    "        'units': 'metric'\n",
    "        }\n",
    "    response = requests.get(end_point, params=query_parameter)\n",
    "    if response.status_code == 200:\n",
    "        data = response.json()\n",
    "        return data\n",
    "    else:\n",
    "        print(\"Error!! Something Went Worng\")\n",
    "        print(f\"Status Code: {response.status_code}\")\n",
    "        print(f\"Reason: {response.reason}\")\n",
    "        "
   ]
  },
  {
   "cell_type": "code",
   "execution_count": 38,
   "metadata": {},
   "outputs": [
    {
     "name": "stdout",
     "output_type": "stream",
     "text": [
      "Error!! Something Went Worng\n",
      "Status Code: 404\n",
      "Reason: Not Found\n",
      "None\n"
     ]
    }
   ],
   "source": [
    "pprint(get_weather('alsjdflkjdsfl'))"
   ]
  },
  {
   "cell_type": "code",
   "execution_count": 39,
   "metadata": {},
   "outputs": [
    {
     "name": "stdout",
     "output_type": "stream",
     "text": [
      "{'base': 'stations',\n",
      " 'clouds': {'all': 40},\n",
      " 'cod': 200,\n",
      " 'coord': {'lat': 26.9167, 'lon': 75.8167},\n",
      " 'dt': 1622646606,\n",
      " 'id': 1269515,\n",
      " 'main': {'feels_like': 28.11,\n",
      "          'humidity': 51,\n",
      "          'pressure': 1005,\n",
      "          'temp': 27.62,\n",
      "          'temp_max': 27.62,\n",
      "          'temp_min': 27.62},\n",
      " 'name': 'Jaipur',\n",
      " 'sys': {'country': 'IN',\n",
      "         'id': 9170,\n",
      "         'sunrise': 1622592178,\n",
      "         'sunset': 1622641608,\n",
      "         'type': 1},\n",
      " 'timezone': 19800,\n",
      " 'visibility': 3000,\n",
      " 'weather': [{'description': 'haze', 'icon': '50n', 'id': 721, 'main': 'Haze'}],\n",
      " 'wind': {'deg': 237, 'gust': 12.69, 'speed': 1.89}}\n"
     ]
    }
   ],
   "source": [
    "pprint(get_weather('jaipur'))"
   ]
  },
  {
   "cell_type": "code",
   "execution_count": 40,
   "metadata": {},
   "outputs": [
    {
     "name": "stdout",
     "output_type": "stream",
     "text": [
      "{'base': 'stations',\n",
      " 'clouds': {'all': 1},\n",
      " 'cod': 200,\n",
      " 'coord': {'lat': 40.7143, 'lon': -74.006},\n",
      " 'dt': 1622647033,\n",
      " 'id': 5128581,\n",
      " 'main': {'feels_like': 22.53,\n",
      "          'humidity': 60,\n",
      "          'pressure': 1024,\n",
      "          'temp': 22.64,\n",
      "          'temp_max': 25.97,\n",
      "          'temp_min': 18.86},\n",
      " 'name': 'New York',\n",
      " 'sys': {'country': 'US',\n",
      "         'id': 2039034,\n",
      "         'sunrise': 1622626005,\n",
      "         'sunset': 1622679703,\n",
      "         'type': 2},\n",
      " 'timezone': -14400,\n",
      " 'visibility': 10000,\n",
      " 'weather': [{'description': 'clear sky',\n",
      "              'icon': '01d',\n",
      "              'id': 800,\n",
      "              'main': 'Clear'}],\n",
      " 'wind': {'deg': 270, 'speed': 3.6}}\n"
     ]
    }
   ],
   "source": [
    "pprint(get_weather('new york'))"
   ]
  },
  {
   "cell_type": "code",
   "execution_count": null,
   "metadata": {},
   "outputs": [],
   "source": []
  }
 ],
 "metadata": {
  "kernelspec": {
   "display_name": "Python 3",
   "language": "python",
   "name": "python3"
  },
  "language_info": {
   "codemirror_mode": {
    "name": "ipython",
    "version": 3
   },
   "file_extension": ".py",
   "mimetype": "text/x-python",
   "name": "python",
   "nbconvert_exporter": "python",
   "pygments_lexer": "ipython3",
   "version": "3.8.3"
  }
 },
 "nbformat": 4,
 "nbformat_minor": 4
}
